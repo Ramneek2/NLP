{
 "cells": [
  {
   "cell_type": "code",
   "execution_count": null,
   "id": "6a599b02",
   "metadata": {},
   "outputs": [],
   "source": [
    "%pip install numpy scipy pandas\n",
    "%pip install --no-cache-dir --force-reinstall https://dm.cs.tu-dortmund.de/nats/nats25_03_01_spherical_kmeans_clustering-0.1-py3-none-any.whl\n",
    "import nats25_03_01_spherical_kmeans_clustering"
   ]
  },
  {
   "cell_type": "markdown",
   "id": "1eefa891",
   "metadata": {},
   "source": [
    "# Clustering\n",
    "## Spherical k-Means Clustering\n",
    "\n",
    "In this assignment, your task is to implement spherical k-means clustering *yourself*.\n",
    "\n",
    "You will need to pay attention to performance. Using \"for\" loops over all instances and variables will not work, but instead you need to perform efficient vectorized operations."
   ]
  },
  {
   "cell_type": "code",
   "execution_count": null,
   "id": "513b1069",
   "metadata": {},
   "outputs": [],
   "source": [
    "import numpy as np, pandas as pd, scipy\n",
    "# Load the input data\n",
    "import gzip, json, urllib\n",
    "file_path, _ = urllib.request.urlretrieve(\"https://dm.cs.tu-dortmund.de/nats/data/minecraft-articles.json.gz\")\n",
    "raw = json.load(gzip.open(file_path, \"rt\", encoding=\"utf-8\"))\n",
    "titles, texts, classes = [x[\"title\"] for x in raw], [x[\"text\"] for x in raw], [x[\"heuristic\"] for x in raw]"
   ]
  },
  {
   "cell_type": "markdown",
   "id": "22f33652",
   "metadata": {},
   "source": [
    "Before you begin anything, always first have a look at the data you are dealing with!"
   ]
  },
  {
   "cell_type": "code",
   "execution_count": null,
   "id": "1d4596e7",
   "metadata": {},
   "outputs": [],
   "source": [
    "# Have a look at the data set!"
   ]
  },
  {
   "cell_type": "markdown",
   "id": "9ac4369a",
   "metadata": {},
   "source": [
    "## Vectorize the text\n",
    "\n",
    "Vectorize the Wiki texts, use the standard TF-IDF from the lecture (standard SMART `ltc` version, lowercase, *not* the scikit-learn variant) as discussed in the previous assignments. Use a minimum document frequency of 5 and standard english stopwords to reduce the vocabulary."
   ]
  },
  {
   "cell_type": "code",
   "execution_count": null,
   "id": "0976a2f1",
   "metadata": {},
   "outputs": [],
   "source": [
    "tfidf = None # sparse tf-idf matrix\n",
    "vocabulary = None # vocabulary\n",
    "idf = None # IDF values\n",
    "pass # Your solution here"
   ]
  },
  {
   "cell_type": "code",
   "execution_count": null,
   "id": "011010f1",
   "metadata": {},
   "outputs": [],
   "source": [
    "pd.DataFrame.sparse.from_spmatrix(tfidf, columns=vocabulary)"
   ]
  },
  {
   "cell_type": "code",
   "execution_count": null,
   "id": "2f7442d2",
   "metadata": {
    "editable": false,
    "jupyter": {
     "source_hidden": true
    },
    "tags": [
     "hide-input"
    ]
   },
   "outputs": [],
   "source": [
    "nats25_03_01_spherical_kmeans_clustering.hidden_tests_7_0(idf, vocabulary, tfidf, texts)"
   ]
  },
  {
   "cell_type": "markdown",
   "id": "514c2b82",
   "metadata": {},
   "source": [
    "## Reassignment step\n",
    "\n",
    "Implement the reassignment step of **spherical** k-means. Use **vectorized code**, or it will likely be too slow.\n",
    "\n",
    "Do *not* use a Python `for` loop, and do *not* convert the input data to a dense matrix (slow)."
   ]
  },
  {
   "cell_type": "code",
   "execution_count": null,
   "id": "510b2351",
   "metadata": {},
   "outputs": [],
   "source": [
    "def reassign(tfidf, centers):\n",
    "    \"\"\"Reassign each object in tfidf to the most similar center.\n",
    "       Return a flat array, not a matrix.\"\"\"\n",
    "    pass # Your solution here\n",
    "    \n",
    "# Test run\n",
    "print(reassign(tfidf[:20], tfidf[:5]))"
   ]
  },
  {
   "cell_type": "code",
   "execution_count": null,
   "id": "2137ea7a",
   "metadata": {
    "editable": false,
    "jupyter": {
     "source_hidden": true
    },
    "tags": [
     "hide-input"
    ]
   },
   "outputs": [],
   "source": [
    "nats25_03_01_spherical_kmeans_clustering.hidden_tests_10_0(range, tfidf, reassign)"
   ]
  },
  {
   "cell_type": "markdown",
   "id": "d49d666c",
   "metadata": {},
   "source": [
    "## Recompute the cluster centers\n",
    "\n",
    "Given a cluster assignment, recompute the cluster centers as used by *spherical* k-means.\n",
    "\n",
    "Vectorize your code: do not iterate over all points with a Python for loop\n",
    "\n",
    "Hint: for the assignment, it is okay to assume that a cluster never becomes empty."
   ]
  },
  {
   "cell_type": "code",
   "execution_count": null,
   "id": "59c73d73",
   "metadata": {},
   "outputs": [],
   "source": [
    "def new_centers(tfidf, assignment):\n",
    "    \"\"\"Return a matrix containing the new cluster centers for spherical k-means.\"\"\"\n",
    "    centers = [] # Okay to use a list or an array for the assignment\n",
    "    pass # Your solution here\n",
    "    return np.array(centers) # Always return an array, copying is okay for the assignment"
   ]
  },
  {
   "cell_type": "code",
   "execution_count": null,
   "id": "fd0fc00a",
   "metadata": {
    "editable": false,
    "jupyter": {
     "source_hidden": true
    },
    "tags": [
     "hide-input"
    ]
   },
   "outputs": [],
   "source": [
    "nats25_03_01_spherical_kmeans_clustering.hidden_tests_13_0(new_centers, tfidf)"
   ]
  },
  {
   "cell_type": "markdown",
   "id": "f3680a92",
   "metadata": {},
   "source": [
    "## Initialization\n",
    "\n",
    "Now write initialization code. Given a random generator *seed*, chose `k` objects as initial cluster centers without replacement. Please use numpy."
   ]
  },
  {
   "cell_type": "code",
   "execution_count": null,
   "id": "a27e1e9b",
   "metadata": {},
   "outputs": [],
   "source": [
    "def initial_centers(tfidf, k, seed):\n",
    "    \"\"\"Choose k initial cluster centers.\"\"\"\n",
    "    pass # Your solution here"
   ]
  },
  {
   "cell_type": "code",
   "execution_count": null,
   "id": "9d120ba1",
   "metadata": {
    "editable": false,
    "jupyter": {
     "source_hidden": true
    },
    "tags": [
     "hide-input"
    ]
   },
   "outputs": [],
   "source": [
    "nats25_03_01_spherical_kmeans_clustering.hidden_tests_16_0(initial_centers, tfidf)"
   ]
  },
  {
   "cell_type": "markdown",
   "id": "1ce306a7",
   "metadata": {},
   "source": [
    "## Implement a Quality Measure\n",
    "\n",
    "As quality measure, compute the *sum* of cosine similarities of every point to its cluster center"
   ]
  },
  {
   "cell_type": "code",
   "execution_count": null,
   "id": "da4852cb",
   "metadata": {},
   "outputs": [],
   "source": [
    "def quality(tfidf, centers, assignment):\n",
    "    \"\"\"Evaluate the quality given the current centers and cluster assignment.\"\"\"\n",
    "    pass # Your solution here\n",
    "    return s"
   ]
  },
  {
   "cell_type": "code",
   "execution_count": null,
   "id": "13b0d4ce",
   "metadata": {
    "editable": false,
    "jupyter": {
     "source_hidden": true
    },
    "tags": [
     "hide-input"
    ]
   },
   "outputs": [],
   "source": [
    "# This test is likely slow if you use a \"for\" loop in quality(). But that is okay.\n",
    "nats25_03_01_spherical_kmeans_clustering.hidden_tests_19_0(quality, tfidf)"
   ]
  },
  {
   "cell_type": "markdown",
   "id": "c9531fe5",
   "metadata": {},
   "source": [
    "As a reference value, compute the quality of assigning every object to the global *spherical* center.\n",
    "\n",
    "Hint: you can use `new_centers` here."
   ]
  },
  {
   "cell_type": "code",
   "execution_count": null,
   "id": "4c824dc2",
   "metadata": {},
   "outputs": [],
   "source": [
    "center1 = None # Compute the overall center\n",
    "sim1 = 0 # Compute the overall similarity\n",
    "\n",
    "pass # Your solution here\n",
    "\n",
    "print(\"Similarity sum to center:\", sim1)\n",
    "print(\"Average similarity to center:\", sim1 / tfidf.shape[0])"
   ]
  },
  {
   "cell_type": "code",
   "execution_count": null,
   "id": "532bd16e",
   "metadata": {
    "editable": false,
    "jupyter": {
     "source_hidden": true
    },
    "tags": [
     "hide-input"
    ]
   },
   "outputs": [],
   "source": [
    "nats25_03_01_spherical_kmeans_clustering.hidden_tests_22_0(sim1, center1, tfidf)"
   ]
  },
  {
   "cell_type": "markdown",
   "id": "c6b728af",
   "metadata": {},
   "source": [
    "## Implement Spherical k-Means\n",
    "\n",
    "Now use these methods to implement spherical k-means clustering. Stop after a maximum number of iterations, or if no point is reassigned.\n",
    "\n",
    "Return the cluster centers, the final cluster assignment, and an array of quality scores evaluated every time *after* reassigning the points to the clusters."
   ]
  },
  {
   "cell_type": "code",
   "execution_count": null,
   "id": "b5cd2f96",
   "metadata": {},
   "outputs": [],
   "source": [
    "def spherical_kmeans(tfidf, initial_centers, max_iter=100):\n",
    "    qualities = []\n",
    "    pass # Your solution here\n",
    "    return centers, assignment, qualities"
   ]
  },
  {
   "cell_type": "code",
   "execution_count": null,
   "id": "61f91b6a",
   "metadata": {
    "editable": false,
    "jupyter": {
     "source_hidden": true
    },
    "tags": [
     "hide-input"
    ]
   },
   "outputs": [],
   "source": [
    "nats25_03_01_spherical_kmeans_clustering.hidden_tests_25_0(spherical_kmeans, quality, tfidf, reassign, new_centers)"
   ]
  },
  {
   "cell_type": "markdown",
   "id": "94d954fb",
   "metadata": {},
   "source": [
    "## CLUSTER!\n",
    "\n",
    "Now try out if your code works! First, cluster with `k=2`."
   ]
  },
  {
   "cell_type": "code",
   "execution_count": null,
   "id": "7b0ae6ef",
   "metadata": {},
   "outputs": [],
   "source": [
    "c = initial_centers(tfidf, 2, 42)\n",
    "c, a, q = spherical_kmeans(tfidf, c, 100)\n",
    "for i, x in enumerate(q): print(i, x)"
   ]
  },
  {
   "cell_type": "code",
   "execution_count": null,
   "id": "616f2f67",
   "metadata": {
    "editable": false,
    "jupyter": {
     "source_hidden": true
    },
    "tags": [
     "hide-input"
    ]
   },
   "outputs": [],
   "source": [
    "nats25_03_01_spherical_kmeans_clustering.hidden_tests_28_0(quality, spherical_kmeans, tfidf)"
   ]
  },
  {
   "cell_type": "markdown",
   "id": "820390ce",
   "metadata": {},
   "source": [
    "## Study the Clusters\n",
    "\n",
    "As we cannot rely on heuristics such as the \"knee\" to choose the number of clusters, we need to perform manual inspection:\n",
    "\n",
    "- what are the most important words of each cluster?\n",
    "- what are the most central documents in each cluster?"
   ]
  },
  {
   "cell_type": "code",
   "execution_count": null,
   "id": "bb74f01f",
   "metadata": {},
   "outputs": [],
   "source": [
    "def most_important(vocabulary, center, k=10):\n",
    "    \"\"\"Find the most important words for each cluster.\"\"\"\n",
    "    pass # Your solution here"
   ]
  },
  {
   "cell_type": "code",
   "execution_count": null,
   "id": "285db797",
   "metadata": {
    "editable": false,
    "jupyter": {
     "source_hidden": true
    },
    "tags": [
     "hide-input"
    ]
   },
   "outputs": [],
   "source": [
    "nats25_03_01_spherical_kmeans_clustering.hidden_tests_31_0(most_important, vocabulary, tfidf)"
   ]
  },
  {
   "cell_type": "code",
   "execution_count": null,
   "id": "bb092779",
   "metadata": {},
   "outputs": [],
   "source": [
    "def most_central(tfidf, centers, assignment, i, k=5):\n",
    "    \"\"\"Find the most central documents of cluster i\"\"\"\n",
    "    pass # Your solution here"
   ]
  },
  {
   "cell_type": "code",
   "execution_count": null,
   "id": "b619303c",
   "metadata": {
    "editable": false,
    "jupyter": {
     "source_hidden": true
    },
    "tags": [
     "hide-input"
    ]
   },
   "outputs": [],
   "source": [
    "nats25_03_01_spherical_kmeans_clustering.hidden_tests_33_0(most_central, tfidf)"
   ]
  },
  {
   "cell_type": "markdown",
   "id": "7f87eff8",
   "metadata": {},
   "source": [
    "## Explain your Clusters\n",
    "\n",
    "Write a function to print a cluster explanation using above functions, and run it for k=20."
   ]
  },
  {
   "cell_type": "code",
   "execution_count": null,
   "id": "82b3af00",
   "metadata": {},
   "outputs": [],
   "source": [
    "def explain(tfidf, vocabulary, titles, centers, assignment):\n",
    "    \"\"\"Use what you built.\"\"\"\n",
    "    pass # Your solution here    "
   ]
  },
  {
   "cell_type": "code",
   "execution_count": null,
   "id": "c5b11a4f",
   "metadata": {},
   "outputs": [],
   "source": [
    "# Cluster with k=20, and explain!\n",
    "pass # Your solution here"
   ]
  },
  {
   "cell_type": "code",
   "execution_count": null,
   "id": "950df097",
   "metadata": {
    "editable": false,
    "jupyter": {
     "source_hidden": true
    },
    "tags": [
     "hide-input"
    ]
   },
   "outputs": [],
   "source": [
    "nats25_03_01_spherical_kmeans_clustering.hidden_tests_37_0(titles, explain, print, most_central, vocabulary, most_important, tfidf)"
   ]
  }
 ],
 "metadata": {
  "kernelspec": {
   "display_name": "Python 3 (ipykernel)",
   "language": "python",
   "name": "python3"
  }
 },
 "nbformat": 4,
 "nbformat_minor": 5
}
