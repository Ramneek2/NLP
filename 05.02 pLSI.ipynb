{
 "cells": [
  {
   "cell_type": "code",
   "execution_count": null,
   "id": "9e3c85d6",
   "metadata": {},
   "outputs": [],
   "source": [
    "%pip install numpy scikit-learn\n",
    "%pip install --no-cache-dir --force-reinstall https://dm.cs.tu-dortmund.de/nats/nats25_05_02_plsi-0.1-py3-none-any.whl\n",
    "import nats25_05_02_plsi"
   ]
  },
  {
   "cell_type": "markdown",
   "id": "b38a47e0",
   "metadata": {},
   "source": [
    "# Probabilistic Latent Semantic Indexing\n",
    "\n",
    "Now we will implement latent semantic indexing (LSI)"
   ]
  },
  {
   "cell_type": "code",
   "execution_count": null,
   "id": "804e41c1",
   "metadata": {},
   "outputs": [],
   "source": [
    "### Load the input data - do not modify\n",
    "import json, gzip, urllib, numpy as np\n",
    "file_path, _ = urllib.request.urlretrieve(\"https://dm.cs.tu-dortmund.de/nats/data/minecraft-articles.json.gz\")\n",
    "raw = json.load(gzip.open(file_path, \"rt\", encoding=\"utf-8\"))\n",
    "titles, texts, classes = [x[\"title\"] for x in raw], [x[\"text\"] for x in raw], [x[\"heuristic\"] for x in raw]"
   ]
  },
  {
   "cell_type": "code",
   "execution_count": null,
   "id": "b13fe709",
   "metadata": {},
   "outputs": [],
   "source": [
    "### Vectorize the text - do not modify\n",
    "from sklearn.feature_extraction.text import CountVectorizer\n",
    "cvect = CountVectorizer(stop_words=\"english\", min_df=5)\n",
    "counts = cvect.fit_transform(texts)\n",
    "vocabulary = cvect.get_feature_names_out()"
   ]
  },
  {
   "cell_type": "markdown",
   "id": "778584a5",
   "metadata": {},
   "source": [
    "## Explore your result\n",
    "\n",
    "Explore the result: write a function to determine the most important words for each factor, and the most relevant documents.\n",
    "\n",
    "**COPY your code from the first file here** (this is a rare case where copying is okay)"
   ]
  },
  {
   "cell_type": "code",
   "execution_count": null,
   "id": "9ddfb434",
   "metadata": {},
   "outputs": [],
   "source": [
    "def most_important(vocabulary, factor, k=10):\n",
    "    \"\"\"Most important words for each factor\"\"\"\n",
    "    pass # Your solution here\n",
    "\n",
    "def most_relevant(assignment, k=5):\n",
    "    \"\"\"Most relevant documents for each factor (return document indexes)\"\"\"\n",
    "    pass # Your solution here\n",
    "\n",
    "def explain(vocabulary, titles, classes, factors, assignment, weights=None):\n",
    "    \"\"\"Print an explanation for each factor.\n",
    "       If weights is None, use the relative share of the assignment weights.\n",
    "       Print the ARI when assigning each document to its maximum only.\"\"\"\n",
    "    from sklearn.metrics import adjusted_rand_score\n",
    "    pass # Your solution here"
   ]
  },
  {
   "cell_type": "markdown",
   "id": "12ac3680",
   "metadata": {},
   "source": [
    "## Implement probabilistic Latent Semantic Indexing\n",
    "\n",
    "Implement pLSI using the non-negative matrix factorization function of sklearn. Make sure to choose appropriate parameters to use KL divergence -- it is not sufficient to use defaults!"
   ]
  },
  {
   "cell_type": "code",
   "execution_count": null,
   "id": "a31e1d66",
   "metadata": {},
   "outputs": [],
   "source": [
    "# Implement pLSI here using NMF\n",
    "def plsi(counts, k):\n",
    "    \"\"\"Probabilistic Latent Semantic Indexing. Return the factors and document assignment\"\"\"\n",
    "    from sklearn.decomposition import NMF\n",
    "    pass # Your solution here\n",
    "    return factors, assignment"
   ]
  },
  {
   "cell_type": "code",
   "execution_count": null,
   "id": "869a5a0a",
   "metadata": {
    "editable": false,
    "jupyter": {
     "source_hidden": true
    },
    "tags": [
     "hide-input"
    ]
   },
   "outputs": [],
   "source": [
    "nats25_05_02_plsi.hidden_tests_7_0(counts, plsi)"
   ]
  },
  {
   "cell_type": "code",
   "execution_count": null,
   "id": "feef955f",
   "metadata": {},
   "outputs": [],
   "source": [
    "# Explore your result. These must be meaningful topics!\n",
    "plsi_factors, plsi_assignment = plsi(counts, 8)\n",
    "explain(vocabulary, titles, classes, plsi_factors, plsi_assignment)"
   ]
  },
  {
   "cell_type": "code",
   "execution_count": null,
   "id": "c8af7d5a",
   "metadata": {
    "editable": false,
    "jupyter": {
     "source_hidden": true
    },
    "tags": [
     "hide-input"
    ]
   },
   "outputs": [],
   "source": [
    "nats25_05_02_plsi.hidden_tests_9_0(plsi_factors, most_important, vocabulary)"
   ]
  }
 ],
 "metadata": {
  "kernelspec": {
   "display_name": "Python 3 (ipykernel)",
   "language": "python",
   "name": "python3"
  }
 },
 "nbformat": 4,
 "nbformat_minor": 5
}
