{
 "cells": [
  {
   "cell_type": "code",
   "execution_count": null,
   "id": "e8112cf1",
   "metadata": {},
   "outputs": [],
   "source": [
    "%pip install numpy plotly\n",
    "%pip install --no-cache-dir --force-reinstall https://dm.cs.tu-dortmund.de/nats/nats25_06_01_forward_backward_and_viterbi-0.1-py3-none-any.whl\n",
    "import nats25_06_01_forward_backward_and_viterbi"
   ]
  },
  {
   "cell_type": "markdown",
   "id": "9292880c",
   "metadata": {},
   "source": [
    "# Forward-Backward- and Viterbi\n",
    "\n",
    "This week we will implement the forward-backward, and Viterbi algorithms."
   ]
  },
  {
   "cell_type": "code",
   "execution_count": null,
   "id": "ee178437",
   "metadata": {},
   "outputs": [],
   "source": [
    "import numpy as np\n",
    "import plotly.graph_objects as go\n",
    "import urllib\n",
    "file_path, _ = urllib.request.urlretrieve(\"https://dm.cs.tu-dortmund.de/nats/data/icecream.csv\")\n",
    "with open(file_path, \"rt\") as file:\n",
    "\ticecream = [int(x) for x in file]\n",
    "go.Figure(\n",
    "\tgo.Scatter(\n",
    "\t\ty=icecream,\n",
    "\t\tline_shape=\"hvh\",\n",
    "\t\tmode=\"markers+lines\",\n",
    "\t),\n",
    "\tlayout_title=\"Ice cream consumption per day\",\n",
    "\tlayout_xaxis_range=(0, len(icecream)-1),\n",
    "\tlayout_margin={c:50 for c in \"tblr\"},\n",
    "\tlayout_width=600, layout_height=150,\n",
    ").show()"
   ]
  },
  {
   "cell_type": "code",
   "execution_count": null,
   "id": "ff2bc977",
   "metadata": {},
   "outputs": [],
   "source": [
    "# Convert ice cream into a 0-indexed state array:\n",
    "states = np.array(icecream) - 1\n",
    "go.Figure(\n",
    "\tgo.Scatter(\n",
    "\t\ty=icecream,\n",
    "\t\tmode=\"markers\",\n",
    "\t),\n",
    "\tlayout_title=\"State\",\n",
    "\tlayout_margin={c:50 for c in \"tblr\"},\n",
    "\tlayout_width=600, layout_height=150,\n",
    ").show()"
   ]
  },
  {
   "cell_type": "markdown",
   "id": "1c97e011",
   "metadata": {},
   "source": [
    "## Implement the forward algorithm\n",
    "\n",
    "With a starting probability distribution `pi` and a transition matrix `a` and an observation probability matrix `b`.\n",
    "\n",
    "Use vectorized operations where possible.\n",
    "\n",
    "You do not need to conserve memory. Instead, return the entire $N\\times k$ matrix for $N$ steps and $k$ states."
   ]
  },
  {
   "cell_type": "code",
   "execution_count": null,
   "id": "a13731ef",
   "metadata": {},
   "outputs": [],
   "source": [
    "def forward(data, pi, a, b):\n",
    "    \"\"\"Forward algorithm\"\"\"\n",
    "    k = len(pi)\n",
    "    assert k == a.shape[0]; assert k == a.shape[1]; assert k == b.shape[1]\n",
    "    mat = np.zeros((len(data),k))\n",
    "    pass # Your solution here\n",
    "    return mat"
   ]
  },
  {
   "cell_type": "code",
   "execution_count": null,
   "id": "c2663d5c",
   "metadata": {},
   "outputs": [],
   "source": [
    "# Fill in the data from the lecture\n",
    "pi = np.array([]) # Starting probabilities\n",
    "pip = np.array([]) # Stopping probabilities\n",
    "a = np.array([]) # Transition matrix\n",
    "b = np.array([]) # Observation probability matrix\n",
    "pass # Your solution here"
   ]
  },
  {
   "cell_type": "code",
   "execution_count": null,
   "id": "b5e6ef80",
   "metadata": {
    "editable": false,
    "jupyter": {
     "source_hidden": true
    },
    "tags": [
     "hide-input"
    ]
   },
   "outputs": [],
   "source": [
    "nats25_06_01_forward_backward_and_viterbi.hidden_tests_6_0(states, pi, a, b, pip, forward)"
   ]
  },
  {
   "cell_type": "code",
   "execution_count": null,
   "id": "4b198d47",
   "metadata": {},
   "outputs": [],
   "source": [
    "# Plot the forward prediction\n",
    "prob = forward(states, pi, a, b)\n",
    "prob = (prob.T / prob.sum(axis=1)).T\n",
    "go.Figure(\n",
    "\tgo.Heatmap(\n",
    "\t\tz=(prob * [-1,1]).T,\n",
    "\t\tzmin=-1, zmax=+1, showscale=False,\n",
    "\t\tcolorscale=\"RdBu\", reversescale=True,\n",
    "\t),\n",
    "\tlayout_yaxis_tickvals=[0,1],\n",
    "\tlayout_margin={c:20 for c in \"tblr\"},\n",
    "\tlayout_width=600, layout_height=80,\n",
    ").show()"
   ]
  },
  {
   "cell_type": "markdown",
   "id": "e7d6ec95",
   "metadata": {},
   "source": [
    "## Backward pass\n",
    "\n",
    "Implement the backward prediction, using `pip` as backwards starting probability."
   ]
  },
  {
   "cell_type": "code",
   "execution_count": null,
   "id": "b8e45c70",
   "metadata": {},
   "outputs": [],
   "source": [
    "def backward(data, pip, a, b):\n",
    "    \"\"\"Backward algorithm\"\"\"\n",
    "    k = len(pip)\n",
    "    assert k == a.shape[0]; assert k == a.shape[1]; assert k == b.shape[1]\n",
    "    mat = np.zeros((len(data),k))\n",
    "    pass # Your solution here\n",
    "    return mat"
   ]
  },
  {
   "cell_type": "code",
   "execution_count": null,
   "id": "c767be6c",
   "metadata": {
    "editable": false,
    "jupyter": {
     "source_hidden": true
    },
    "tags": [
     "hide-input"
    ]
   },
   "outputs": [],
   "source": [
    "nats25_06_01_forward_backward_and_viterbi.hidden_tests_10_0(backward, pi, states, a, b, pip)"
   ]
  },
  {
   "cell_type": "code",
   "execution_count": null,
   "id": "c34911d2",
   "metadata": {},
   "outputs": [],
   "source": [
    "# Plot the backward prediction\n",
    "bprob = backward(states, pi, a, b)\n",
    "bprob = (bprob.T / bprob.sum(axis=1)).T\n",
    "go.Figure(\n",
    "\tgo.Heatmap(\n",
    "\t\tz=(bprob * [-1,1]).T,\n",
    "\t\tzmin=-1, zmax=+1, showscale=False,\n",
    "\t\tcolorscale=\"RdBu\", reversescale=True,\n",
    "\t),\n",
    "\tlayout_yaxis_tickvals=[0,1],\n",
    "\tlayout_margin={c:20 for c in \"tblr\"},\n",
    "\tlayout_width=600, layout_height=80,\n",
    ").show()"
   ]
  },
  {
   "cell_type": "markdown",
   "id": "f2db7e55",
   "metadata": {},
   "source": [
    "## Forward-Backward\n",
    "\n",
    "Compute the forward-backward probabilities"
   ]
  },
  {
   "cell_type": "code",
   "execution_count": null,
   "id": "4ef3a79f",
   "metadata": {},
   "outputs": [],
   "source": [
    "def forwardbackward(data, pi, pip, a, b):\n",
    "    \"\"\"Forward-backward algorithm\"\"\"\n",
    "    pass # Your solution here"
   ]
  },
  {
   "cell_type": "code",
   "execution_count": null,
   "id": "0d83c9cf",
   "metadata": {
    "editable": false,
    "jupyter": {
     "source_hidden": true
    },
    "tags": [
     "hide-input"
    ]
   },
   "outputs": [],
   "source": [
    "nats25_06_01_forward_backward_and_viterbi.hidden_tests_14_0(pi, states, a, b, forwardbackward, pip)"
   ]
  },
  {
   "cell_type": "code",
   "execution_count": null,
   "id": "5aacb316",
   "metadata": {},
   "outputs": [],
   "source": [
    "# Plot the forward-backward prediction\n",
    "fbprob = forwardbackward(states, pi, pip, a, b)\n",
    "fbprob = (fbprob.T / fbprob.sum(axis=1)).T\n",
    "go.Figure(\n",
    "\tgo.Heatmap(\n",
    "\t\tz=(fbprob * [-1,1]).T,\n",
    "\t\tzmin=-1, zmax=+1, showscale=False,\n",
    "\t\tcolorscale=\"RdBu\", reversescale=True,\n",
    "\t),\n",
    "\tlayout_title=\"Forward-Backward probabilities (normalized)\",\n",
    "\tlayout_yaxis_tickvals=[0,1],\n",
    "\tlayout_margin={c:40 for c in \"tblr\"},\n",
    "\tlayout_width=600, layout_height=120,\n",
    ").show()\n",
    "go.Figure(\n",
    "\tgo.Heatmap(\n",
    "\t\tz=fbprob.argmax(axis=1).reshape((1,-1)) * 2 - 1,\n",
    "\t\tzmin=-1, zmax=+1, showscale=False,\n",
    "\t\tcolorscale=\"RdBu\", reversescale=True,\n",
    "\t),\n",
    "\tlayout_title=\"Most probable state\",\n",
    "\tlayout_yaxis_tickvals=[0],\n",
    "\tlayout_margin={c:40 for c in \"tblr\"},\n",
    "\tlayout_width=600, layout_height=100,\n",
    ").show()"
   ]
  },
  {
   "cell_type": "markdown",
   "id": "b3e043e4",
   "metadata": {},
   "source": [
    "## Viterbi algorithm\n",
    "\n",
    "Implement the Viterbi algorithm for the most probable state sequence.\n",
    "\n",
    "Try to use vectorized operations where possible.\n",
    "\n",
    "Return: (1) the most likely sequence, (2) the probabilities computed by Viterbi, (3) the probability of the best path"
   ]
  },
  {
   "cell_type": "code",
   "execution_count": null,
   "id": "39b33f07",
   "metadata": {},
   "outputs": [],
   "source": [
    "def viterbi(data, pi, a, b):\n",
    "    \"\"\"Forward-backward algorithm\"\"\"\n",
    "    k = len(pi)\n",
    "    assert k == a.shape[0]; assert k == a.shape[1]; assert k == b.shape[1]\n",
    "    pass # Your solution here\n",
    "    return seq, mat, prob"
   ]
  },
  {
   "cell_type": "code",
   "execution_count": null,
   "id": "f0620d6a",
   "metadata": {
    "editable": false,
    "jupyter": {
     "source_hidden": true
    },
    "tags": [
     "hide-input"
    ]
   },
   "outputs": [],
   "source": [
    "nats25_06_01_forward_backward_and_viterbi.hidden_tests_18_0(pi, states, a, b, viterbi)"
   ]
  },
  {
   "cell_type": "code",
   "execution_count": null,
   "id": "642f9e8b",
   "metadata": {},
   "outputs": [],
   "source": [
    "# Plot and visualize the Viterbi prediction\n",
    "vseq, vmat, vp = viterbi(states, pi, a, b)\n",
    "vmat = (vmat.T / vmat.sum(axis=1)).T\n",
    "go.Figure(\n",
    "\tgo.Heatmap(z=(vmat * [-1,1]).T, zmin=-1, zmax=+1, showscale=False, colorscale=\"RdBu\", reversescale=True,),\n",
    "\tlayout_title=\"Normalized Probability\", layout_yaxis_tickvals=[0,1], layout_margin={c:40 for c in \"tblr\"}, layout_width=600, layout_height=120,\n",
    ").show()\n",
    "go.Figure(\n",
    "\tgo.Heatmap(z=vmat.argmax(axis=1).reshape((1,-1)) * 2 - 1, zmin=-1, zmax=+1, showscale=False, colorscale=\"RdBu\", reversescale=True,),\n",
    "\tlayout_title=\"Most probable state each step\", layout_yaxis_tickvals=[0], layout_margin={c:40 for c in \"tblr\"}, layout_width=600, layout_height=100,\n",
    ").show()\n",
    "go.Figure(\n",
    "\tgo.Heatmap(z=vseq.reshape((1,-1)) * 2 - 1, zmin=-1, zmax=+1, showscale=False, colorscale=\"RdBu\", reversescale=True,),\n",
    "\tlayout_title=\"Most likely path\", layout_yaxis_tickvals=[0], layout_margin={c:40 for c in \"tblr\"}, layout_width=600, layout_height=100,\n",
    ").show()\n",
    "print(\"Most likely path probability:\", vp)"
   ]
  }
 ],
 "metadata": {
  "kernelspec": {
   "display_name": "Python 3 (ipykernel)",
   "language": "python",
   "name": "python3"
  }
 },
 "nbformat": 4,
 "nbformat_minor": 5
}
