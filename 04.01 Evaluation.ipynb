{
 "cells": [
  {
   "cell_type": "code",
   "execution_count": null,
   "id": "98f30f46",
   "metadata": {},
   "outputs": [],
   "source": [
    "%pip install numpy scikit-learn pandas\n",
    "%pip install --no-cache-dir --force-reinstall https://dm.cs.tu-dortmund.de/nats/nats25_04_01_evaluation-0.1-py3-none-any.whl\n",
    "import nats25_04_01_evaluation"
   ]
  },
  {
   "cell_type": "markdown",
   "id": "99670993",
   "metadata": {},
   "source": [
    "# Evaluation\n",
    "\n",
    "In this (shorter) assignment, we want to compare the quality of different clustering approaches."
   ]
  },
  {
   "cell_type": "code",
   "execution_count": null,
   "id": "a9b39733",
   "metadata": {},
   "outputs": [],
   "source": [
    "import numpy as np\n",
    "# Load the input data\n",
    "import json, gzip, urllib\n",
    "file_path, _ = urllib.request.urlretrieve(\"https://dm.cs.tu-dortmund.de/nats/data/minecraft-articles.json.gz\")\n",
    "raw = json.load(gzip.open(file_path, \"rt\", encoding=\"utf-8\"))\n",
    "titles, texts, classes = [x[\"title\"] for x in raw], [x[\"text\"] for x in raw], [x[\"heuristic\"] for x in raw]"
   ]
  },
  {
   "cell_type": "markdown",
   "id": "64025797",
   "metadata": {},
   "source": [
    "This is a minimal example implementation of spherical k-means, which we will use in the following."
   ]
  },
  {
   "cell_type": "code",
   "execution_count": null,
   "id": "b43b65ec",
   "metadata": {},
   "outputs": [],
   "source": [
    "# Vectorize the text for k-means (minimalistic)\n",
    "from sklearn.feature_extraction.text import TfidfVectorizer\n",
    "vect = TfidfVectorizer(stop_words=\"english\", sublinear_tf=True, smooth_idf=False, min_df=5)\n",
    "vect.fit(texts)\n",
    "vect.idf_ -= 1\n",
    "tfidf, idf = vect.transform(texts), vect.idf_\n",
    "vocabulary = vect.get_feature_names_out()"
   ]
  },
  {
   "cell_type": "code",
   "execution_count": null,
   "id": "9e146233",
   "metadata": {},
   "outputs": [],
   "source": [
    "## Insert your spherical-k-means implementation from the previous assignment here!\n",
    "\n",
    "def initial_centers(tfidf, k, seed):\n",
    "    pass # Your solution here\n",
    "\n",
    "def sphericalkmeans(tfidf, centers, max_iter=100):\n",
    "    pass # Your solution here\n",
    "    return centers, assignment, iter"
   ]
  },
  {
   "cell_type": "markdown",
   "id": "46bd2375",
   "metadata": {},
   "source": [
    "## Implement a function to compute a cross-tabulation matrix\n",
    "\n",
    "Compute the cross-tabulation matrix compares every class to every cluster. Append an additional row and column for the cluster sizes / class totals and the dataset size. Make sure to accept clusters that are, e.g., labeled using text labels and *not* just as integers 0..k.\n",
    "\n",
    "Write your own code, do not use `pandas.crosstab`.\n",
    "\n",
    "You do not need to vectorize this, but try to use numpy operations where easily possible - in particular if you end up waiting a lot for results below!"
   ]
  },
  {
   "cell_type": "code",
   "execution_count": null,
   "id": "eed4d07e",
   "metadata": {},
   "outputs": [],
   "source": [
    "def cross_tabulation(clu, cla):\n",
    "    \"\"\"Compute the cross-tabulation matrix to compare assignments `clu` and `cla`.\"\"\"\n",
    "    pass # Your solution here"
   ]
  },
  {
   "cell_type": "code",
   "execution_count": null,
   "id": "5a400907",
   "metadata": {
    "editable": false,
    "jupyter": {
     "source_hidden": true
    },
    "tags": [
     "hide-input"
    ]
   },
   "outputs": [],
   "source": [
    "nats25_04_01_evaluation.hidden_tests_7_0(sphericalkmeans, classes, cross_tabulation, tfidf)"
   ]
  },
  {
   "cell_type": "markdown",
   "id": "639adb4a",
   "metadata": {},
   "source": [
    "## Implement a function to compute the pair counts from the cross-tabulation matrix"
   ]
  },
  {
   "cell_type": "code",
   "execution_count": null,
   "id": "c6aef350",
   "metadata": {},
   "outputs": [],
   "source": [
    "def pair_count(crosstab):\n",
    "    \"\"\"Compute the pair count matrix from the cross-tabulation matrix.\"\"\"\n",
    "    pass # Your solution here"
   ]
  },
  {
   "cell_type": "code",
   "execution_count": null,
   "id": "82f60ac0",
   "metadata": {
    "editable": false,
    "jupyter": {
     "source_hidden": true
    },
    "tags": [
     "hide-input"
    ]
   },
   "outputs": [],
   "source": [
    "nats25_04_01_evaluation.hidden_tests_10_0(sphericalkmeans, cross_tabulation, pair_count, tfidf)"
   ]
  },
  {
   "cell_type": "markdown",
   "id": "080a64fa",
   "metadata": {},
   "source": [
    "## Compute the Rand Index\n",
    "\n",
    "First compute the Rand Index of two assignments. You must use above functions."
   ]
  },
  {
   "cell_type": "code",
   "execution_count": null,
   "id": "e0504bc1",
   "metadata": {},
   "outputs": [],
   "source": [
    "def rand_index(clu, cla):\n",
    "    pass # Your solution here"
   ]
  },
  {
   "cell_type": "code",
   "execution_count": null,
   "id": "a6cdad56",
   "metadata": {
    "editable": false,
    "jupyter": {
     "source_hidden": true
    },
    "tags": [
     "hide-input"
    ]
   },
   "outputs": [],
   "source": [
    "nats25_04_01_evaluation.hidden_tests_13_0(tfidf, sphericalkmeans, pair_count, rand_index, classes, cross_tabulation)"
   ]
  },
  {
   "cell_type": "markdown",
   "id": "837490c3",
   "metadata": {},
   "source": [
    "## Compute the Adjusted Rand Index\n",
    "\n",
    "Write a function to compute the adjusted Rand index of two assignments. You must use above `pair_count` and `cross_tabulation` functions.\n",
    "\n",
    "Beware of integer overflows when using the equation from the slides. To resolve the integer overflow, transform the equation such that it has the standard form $ARI = \\frac{RI-E[RI]}{M-E[RI]}$ where RI is the rand index, $E[RI]$ is the expected value of the rand index (you need to derive this from the ARI equation given on the slides, do *not* attempt to figure out this equation directly; this assignment only needs standad high school math), and \\(M\\) is the maximum possible value of the Rand index (a constant)."
   ]
  },
  {
   "cell_type": "code",
   "execution_count": null,
   "id": "8c04b2cb",
   "metadata": {},
   "outputs": [],
   "source": [
    "def adjusted_rand_index(clu, cla):\n",
    "    pass # Your solution here"
   ]
  },
  {
   "cell_type": "code",
   "execution_count": null,
   "id": "86df8eb8",
   "metadata": {
    "editable": false,
    "jupyter": {
     "source_hidden": true
    },
    "tags": [
     "hide-input"
    ]
   },
   "outputs": [],
   "source": [
    "nats25_04_01_evaluation.hidden_tests_16_0(tfidf, sphericalkmeans, pair_count, adjusted_rand_index, classes, cross_tabulation)"
   ]
  },
  {
   "cell_type": "markdown",
   "id": "25352318",
   "metadata": {},
   "source": [
    "## Compute the Normalized Mutual Information\n",
    "\n",
    "Write a function to compute the Normalized Mutual Information (with arithmetic averaging) of two assignments.\n",
    "You must use above `pair_count` and `cross_tabulation` functions."
   ]
  },
  {
   "cell_type": "code",
   "execution_count": null,
   "id": "dc94fc8e",
   "metadata": {},
   "outputs": [],
   "source": [
    "def normalized_mutual_information(clu, cla):\n",
    "    pass # Your solution here"
   ]
  },
  {
   "cell_type": "code",
   "execution_count": null,
   "id": "419df154",
   "metadata": {
    "editable": false,
    "jupyter": {
     "source_hidden": true
    },
    "tags": [
     "hide-input"
    ]
   },
   "outputs": [],
   "source": [
    "nats25_04_01_evaluation.hidden_tests_19_0(sphericalkmeans, classes, normalized_mutual_information, tfidf)"
   ]
  },
  {
   "cell_type": "markdown",
   "id": "eab79450",
   "metadata": {},
   "source": [
    "## Finding the best clustering\n",
    "\n",
    "for $k=1..15$, and a fixed random seed of 0, find the best spherical k-means clustering by NMI compared to the classes stored in `classes` above (note that this will not generally be possible, as our data usually will not be labeled)."
   ]
  },
  {
   "cell_type": "code",
   "execution_count": null,
   "id": "95c80cb0",
   "metadata": {},
   "outputs": [],
   "source": [
    "bestk = None # Store best k here\n",
    "bestnmi = None # Store the best NMI here\n",
    "bestassignment = None # Store the best assignment here\n",
    "pass # Your solution here\n",
    "print(\"The best k is\", bestk, \"scoring\", bestnmi)\n",
    "# Hint: it will *not* score very good. The classes are not clusters."
   ]
  },
  {
   "cell_type": "code",
   "execution_count": null,
   "id": "fd44e050",
   "metadata": {
    "editable": false,
    "jupyter": {
     "source_hidden": true
    },
    "tags": [
     "hide-input"
    ]
   },
   "outputs": [],
   "source": [
    "nats25_04_01_evaluation.hidden_tests_22_0(tfidf, bestassignment, bestnmi, classes, bestk, initial_centers)"
   ]
  },
  {
   "cell_type": "markdown",
   "id": "7971d9d4",
   "metadata": {},
   "source": [
    "Is that value for $k$ reasonable? What does it tell you about the data?"
   ]
  },
  {
   "cell_type": "markdown",
   "id": "3f350741",
   "metadata": {},
   "source": [
    "## Explore the result\n",
    "\n",
    "Explore the clustering result, by comparing it to the original classes.\n",
    "\n",
    "For each cluster, return the cluster label, the three top classes, and the percentages of the clusters."
   ]
  },
  {
   "cell_type": "code",
   "execution_count": null,
   "id": "bb2bcbb8",
   "metadata": {},
   "outputs": [],
   "source": [
    "def top_classes(clu, cla):\n",
    "    \"\"\"For each cluster, give the top three classes and their share of the data each.\"\"\"\n",
    "    # For each cluster, call yield label, *top3, *shares to return a 7-tuple.\n",
    "    pass # Your solution here"
   ]
  },
  {
   "cell_type": "code",
   "execution_count": null,
   "id": "8e45a1db",
   "metadata": {
    "editable": false,
    "jupyter": {
     "source_hidden": true
    },
    "tags": [
     "hide-input"
    ]
   },
   "outputs": [],
   "source": [
    "nats25_04_01_evaluation.hidden_tests_26_0(top_classes, bestk, bestassignment, classes)"
   ]
  },
  {
   "cell_type": "code",
   "execution_count": null,
   "id": "86b3e5f4",
   "metadata": {},
   "outputs": [],
   "source": [
    "# Explore your clusterings!\n",
    "pass # Your solution here"
   ]
  }
 ],
 "metadata": {
  "kernelspec": {
   "display_name": "Python 3 (ipykernel)",
   "language": "python",
   "name": "python3"
  }
 },
 "nbformat": 4,
 "nbformat_minor": 5
}
