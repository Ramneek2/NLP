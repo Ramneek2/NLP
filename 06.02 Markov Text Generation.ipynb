{
 "cells": [
  {
   "cell_type": "code",
   "execution_count": null,
   "id": "481ad48a",
   "metadata": {},
   "outputs": [],
   "source": [
    "%pip install --no-cache-dir --force-reinstall https://dm.cs.tu-dortmund.de/nats/nats25_06_02_markov_text_generation-0.1-py3-none-any.whl\n",
    "import nats25_06_02_markov_text_generation"
   ]
  },
  {
   "cell_type": "markdown",
   "id": "81c1e36e",
   "metadata": {},
   "source": [
    "## Text Generation with Markov Chains\n",
    "\n",
    "In this exercise, we want to make a Donald Trump fake tweet generator using a simple Markov chain."
   ]
  },
  {
   "cell_type": "code",
   "execution_count": null,
   "id": "854af04d",
   "metadata": {},
   "outputs": [],
   "source": [
    "# Load the tweet data:\n",
    "import gzip, re, sys, urllib\n",
    "file_path, _ = urllib.request.urlretrieve(\"https://dm.cs.tu-dortmund.de/nats/data/tweets_realDonaldTrump_sanitized.txt.gz\")\n",
    "with gzip.open(file_path, \"rt\", encoding=\"utf-8\") as file:\n",
    "\ttweets = [[sys.intern(y) for y in re.split(r\"\\s\", x.strip())] for x in file]"
   ]
  },
  {
   "cell_type": "markdown",
   "id": "bc605a40",
   "metadata": {},
   "source": [
    "## Collect the necessary statistics for the Markov model\n",
    "\n",
    "We need the term frequencies to predict the next word given the previous 0...order words.\n",
    "\n",
    "Use `()` (empty tuple) as a start and stop token. Use tuples as keys in your maps.\n",
    "\n",
    "For the 0th order, this is simply the word frequency!"
   ]
  },
  {
   "cell_type": "code",
   "execution_count": null,
   "id": "355967b6",
   "metadata": {},
   "outputs": [],
   "source": [
    "# Aggregate the data as necessary for Markov model of order 0...order\n",
    "def aggregate(tweets, order):\n",
    "    from collections import defaultdict, Counter\n",
    "    models = []\n",
    "    # As 0th order, use the first tokens only. \n",
    "    pass # Your solution here\n",
    "    models.append({(): counter})\n",
    "    for o in range(1, order+1):\n",
    "        model = defaultdict(Counter) # use tuple() -> word (or empty tuple)\n",
    "        pass # Your solution here\n",
    "        models.append(model)\n",
    "    return models"
   ]
  },
  {
   "cell_type": "code",
   "execution_count": null,
   "id": "37e2e297",
   "metadata": {
    "editable": false,
    "jupyter": {
     "source_hidden": true
    },
    "tags": [
     "hide-input"
    ]
   },
   "outputs": [],
   "source": [
    "nats25_06_02_markov_text_generation.hidden_tests_4_0(tweets, aggregate)"
   ]
  },
  {
   "cell_type": "markdown",
   "id": "fccb9903",
   "metadata": {},
   "source": [
    "### Train your model"
   ]
  },
  {
   "cell_type": "code",
   "execution_count": null,
   "id": "422e4b02",
   "metadata": {},
   "outputs": [],
   "source": [
    "%time model = aggregate(tweets, order=3)"
   ]
  },
  {
   "cell_type": "markdown",
   "id": "cdc51937",
   "metadata": {},
   "source": [
    "## Make Trump tweet again\n",
    "\n",
    "Lets make Trump tweet again.\n",
    "\n",
    "Write a function \"trump\" that randomly generates trumpesque garbage given the above model, by randomly sampling from the appropriate distribution."
   ]
  },
  {
   "cell_type": "code",
   "execution_count": null,
   "id": "244c1d4a",
   "metadata": {},
   "outputs": [],
   "source": [
    "def trump(model):\n",
    "    \"\"\"Generate Trumpesque nonsense from a trained Markov model\"\"\"\n",
    "    import random\n",
    "    order = len(model) - 1\n",
    "    output = []\n",
    "    for i in range(0, 100): # enforce a max length 100, in case your stopping does not work\n",
    "        pass # Your solution here\n",
    "        output.append(next_word)\n",
    "    return output"
   ]
  },
  {
   "cell_type": "code",
   "execution_count": null,
   "id": "62b45add",
   "metadata": {
    "editable": false,
    "jupyter": {
     "source_hidden": true
    },
    "tags": [
     "hide-input"
    ]
   },
   "outputs": [],
   "source": [
    "nats25_06_02_markov_text_generation.hidden_tests_9_0(tweets, trump, aggregate)"
   ]
  },
  {
   "cell_type": "markdown",
   "id": "d1b40c97",
   "metadata": {},
   "source": [
    "## Make Donald Trump tweet garbage again\n",
    "\n",
    "Lets make Donald Trump tweet again. Generate some Trumpesque nonsense:"
   ]
  },
  {
   "cell_type": "code",
   "execution_count": null,
   "id": "5adbf9ce",
   "metadata": {},
   "outputs": [],
   "source": [
    "for i in range(10):\n",
    "    print(*trump(model))"
   ]
  }
 ],
 "metadata": {
  "kernelspec": {
   "display_name": "Python 3 (ipykernel)",
   "language": "python",
   "name": "python3"
  }
 },
 "nbformat": 4,
 "nbformat_minor": 5
}
