{
 "cells": [
  {
   "cell_type": "code",
   "execution_count": 1,
   "id": "429f70eb",
   "metadata": {},
   "outputs": [
    {
     "name": "stdout",
     "output_type": "stream",
     "text": [
      "Collecting nats25-01-02-information-retrieval==0.1\n",
      "  Downloading https://dm.cs.tu-dortmund.de/nats/nats25_01_02_information_retrieval-0.1-py3-none-any.whl (3.6 kB)\n",
      "Installing collected packages: nats25-01-02-information-retrieval\n",
      "Successfully installed nats25-01-02-information-retrieval-0.1\n",
      "Note: you may need to restart the kernel to use updated packages.\n"
     ]
    }
   ],
   "source": [
    "%pip install --no-cache-dir --force-reinstall https://dm.cs.tu-dortmund.de/nats/nats25_01_02_information_retrieval-0.1-py3-none-any.whl\n",
    "import nats25_01_02_information_retrieval"
   ]
  },
  {
   "cell_type": "markdown",
   "id": "414858e9",
   "metadata": {},
   "source": [
    "# Foundations\n",
    "## Information Retrieval\n",
    "\n",
    "This week, we will learn some basics of information retrieval, and build a simple search engine."
   ]
  },
  {
   "cell_type": "markdown",
   "id": "93c3d121",
   "metadata": {},
   "source": [
    "### Hamlet sentences\n",
    "\n",
    "We want to build a full text search index for Hamlet in this assignment.\n",
    "\n",
    "First load the Hamlet data from the previous assignment, and split it into sentences. Beware of the particular structure of this document, which not only separates sentences with a dot.\n",
    "\n",
    "Then tokenize the sentences as in the previous assignment, such that each sentence is a sequence of *words* (no punctuation tokens, lowercase). Do *not* remove stopwords. Do not use a library, write the code yourself."
   ]
  },
  {
   "cell_type": "code",
   "execution_count": null,
   "id": "49e60c60",
   "metadata": {},
   "outputs": [],
   "source": [
    "import re, urllib\n",
    "# You can add some setup code here (e.g., re.compile)\n",
    "pass # Your solution here\n",
    "\n",
    "# Read the entire file:\n",
    "file_path, _ = urllib.request.urlretrieve(\"https://dm.cs.tu-dortmund.de/nats/data/hamlet.txt\")\n",
    "with open(file_path, \"rt\") as file:\n",
    "    full = file.read()\n",
    "\n",
    "sentences = [] # Store your output in this list\n",
    "# First split Hamlet into sentences, then tokenize each sentence.\n",
    "pass # Your solution here\n",
    "\n",
    "print(f\"Hamlet contains {len(sentences)} sentences, {sum(len(s) for s in sentences)} tokens.\")"
   ]
  },
  {
   "cell_type": "code",
   "execution_count": null,
   "id": "5a07e7e1",
   "metadata": {
    "editable": false,
    "jupyter": {
     "source_hidden": true
    },
    "tags": [
     "hide-input"
    ]
   },
   "outputs": [],
   "source": [
    "nats25_01_02_information_retrieval.hidden_tests_3_0(sentences)"
   ]
  },
  {
   "cell_type": "markdown",
   "id": "785da0e3",
   "metadata": {},
   "source": [
    "Find the longest sentence (as an array of tokens) and print it"
   ]
  },
  {
   "cell_type": "code",
   "execution_count": null,
   "id": "aa3cf28e",
   "metadata": {},
   "outputs": [],
   "source": [
    "longest = [] # store the answer here, as array\n",
    "pass # Your solution here\n",
    "print(\"Length of longest sentence:\", len(longest))\n",
    "print(*longest)"
   ]
  },
  {
   "cell_type": "code",
   "execution_count": null,
   "id": "55adaf0a",
   "metadata": {
    "editable": false,
    "jupyter": {
     "source_hidden": true
    },
    "tags": [
     "hide-input"
    ]
   },
   "outputs": [],
   "source": [
    "nats25_01_02_information_retrieval.hidden_tests_6_0(longest)"
   ]
  },
  {
   "cell_type": "markdown",
   "id": "e3e506ae",
   "metadata": {},
   "source": [
    "Count how many sentences have exactly one token. Why are there so many? Find the 10 most frequent one-word sentences."
   ]
  },
  {
   "cell_type": "code",
   "execution_count": null,
   "id": "3cf0b613",
   "metadata": {},
   "outputs": [],
   "source": [
    "singletons = 0 # Store your answer in this variable\n",
    "pass # Your solution here\n",
    "print(f\"There are {singletons} sentences with just one word.\")\n",
    "\n",
    "most_common = [] # Store the 10 most common one-word sentences and their counts\n",
    "pass # Your solution here\n",
    "\n",
    "for word, count in most_common:\n",
    "    print(word, count, sep=\"\\t\")"
   ]
  },
  {
   "cell_type": "code",
   "execution_count": null,
   "id": "bd7e0da7",
   "metadata": {
    "editable": false,
    "jupyter": {
     "source_hidden": true
    },
    "tags": [
     "hide-input"
    ]
   },
   "outputs": [],
   "source": [
    "nats25_01_02_information_retrieval.hidden_tests_9_0(singletons, most_common)"
   ]
  },
  {
   "cell_type": "markdown",
   "id": "8adcca6d",
   "metadata": {},
   "source": [
    "## Build an inverted index\n",
    "\n",
    "For full-text search, we need an inverted index. Build a lookup table that allows us to find all sentence numbers that contain a particular word. Do not include multiple occurrences."
   ]
  },
  {
   "cell_type": "code",
   "execution_count": null,
   "id": "f0b71850",
   "metadata": {},
   "outputs": [],
   "source": [
    "from collections import defaultdict\n",
    "index = defaultdict(list) # words to occurrences\n",
    "pass # Your solution here\n",
    "print(f\"The index contains {len(index)} words and {sum([len(x) for x in index.values()])} occurrences\")"
   ]
  },
  {
   "cell_type": "code",
   "execution_count": null,
   "id": "b2a4cbc1",
   "metadata": {
    "editable": false,
    "jupyter": {
     "source_hidden": true
    },
    "tags": [
     "hide-input"
    ]
   },
   "outputs": [],
   "source": [
    "nats25_01_02_information_retrieval.hidden_tests_12_0(sentences, index)"
   ]
  },
  {
   "cell_type": "markdown",
   "id": "7262b156",
   "metadata": {},
   "source": [
    "# Excursus: Generators in Python\n",
    "\n",
    "Python has a (rather uncommon) powerful feature called [*generators*](https://wiki.python.org/moin/Generators).\n",
    "\n",
    "- When writing generators, they are like functions that can \"return\" multiple values (using `yield`), and will be paused inbetween\n",
    "- When consuming generators, they behave essentially like an iterator\n",
    "- Generators are *lazy*: they do *not* produce a list of all their output, but always one item when necessary\n",
    "- Generators *could* produce an infinite stream of values\n",
    "\n",
    "In the following assignments, please use generators for efficiency. Here is a simple example how generators work:"
   ]
  },
  {
   "cell_type": "code",
   "execution_count": null,
   "id": "d220025c",
   "metadata": {},
   "outputs": [],
   "source": [
    "def upto(x):\n",
    "    i = 0\n",
    "    while i <= x:\n",
    "        print(\"gen: generating\", i)\n",
    "        yield i # Return value and pause!\n",
    "        print(\"gen: continuing\")\n",
    "        i += 1\n",
    "\n",
    "print(\"Use generator in for loop:\")\n",
    "for j in upto(2):\n",
    "    print(\"use: generated:\", j)\n",
    "    print(\"use: next\")\n",
    "\n",
    "print(\"Use generator object directly:\")\n",
    "a = upto(1)\n",
    "print(\"Type of a:\", type(a))\n",
    "print(next(a))\n",
    "print(\"Wait\")\n",
    "print(next(a))\n",
    "try:\n",
    "    print(next(a))\n",
    "except StopIteration:\n",
    "    print(\"No further values.\")\n",
    "    \n",
    "print(*upto(2)) # The star expands an iterable/generator"
   ]
  },
  {
   "cell_type": "markdown",
   "id": "b3d2b19c",
   "metadata": {},
   "source": [
    "Write yourself a simple generator to enumerate an existing list: given an input list `[a,b,c]` generate an output containing pairs of `(i,v)` where `i` is the 0-based index of the list."
   ]
  },
  {
   "cell_type": "code",
   "execution_count": null,
   "id": "4b3262c1",
   "metadata": {},
   "outputs": [],
   "source": [
    "def my_enumerate(existing):\n",
    "    \"\"\"Enumerate the values in the existing list.\"\"\"\n",
    "    pass # Your solution here\n",
    "\n",
    "for i, string in my_enumerate([\"apple\", \"banana\", \"coconut\"]):\n",
    "    print(\"Index\", i, \"value\", string)"
   ]
  },
  {
   "cell_type": "code",
   "execution_count": null,
   "id": "3b944a1d",
   "metadata": {
    "editable": false,
    "jupyter": {
     "source_hidden": true
    },
    "tags": [
     "hide-input"
    ]
   },
   "outputs": [],
   "source": [
    "enumerate=enumerate # Weird fix for JupyterLite\n",
    "nats25_01_02_information_retrieval.hidden_tests_17_0(my_enumerate, enumerate)"
   ]
  },
  {
   "cell_type": "markdown",
   "id": "5e2d6889",
   "metadata": {},
   "source": [
    "# Intersection of sorted lists\n",
    "\n",
    "Back to Hamlet: write a *generator* for the *sorted* intersection of two sorted iterators (e.g., list iterators or other generators). Use a **merge** operation as discussed in class!\n",
    "\n",
    "You may assume that the input is ordered and does not contain duplicates."
   ]
  },
  {
   "cell_type": "code",
   "execution_count": null,
   "id": "3714a4d2",
   "metadata": {},
   "outputs": [],
   "source": [
    "def intersect(itera, iterb):\n",
    "    \"\"\"Generate the intersection of the two iterators. Do *not* use a list or set!\"\"\"\n",
    "    itera, iterb = iter(itera), iter(iterb)\n",
    "    try:\n",
    "        a, b = next(itera), next(iterb)\n",
    "        pass # Your solution here\n",
    "    except StopIteration:\n",
    "        pass # Figure out why this is the right thing to do here!\n",
    "\n",
    "print(*intersect(range(27,51), [7,23,42,99]))\n",
    "print(*intersect(\"abc\",\"abc\"))\n",
    "# We want to compute the intersection of intersections!\n",
    "print(*intersect(\"abcdef\", intersect(\"cdefgh\", \"efghij\")))"
   ]
  },
  {
   "cell_type": "code",
   "execution_count": null,
   "id": "3a509123",
   "metadata": {
    "editable": false,
    "jupyter": {
     "source_hidden": true
    },
    "tags": [
     "hide-input"
    ]
   },
   "outputs": [],
   "source": [
    "nats25_01_02_information_retrieval.hidden_tests_20_0(set, intersect, list)"
   ]
  },
  {
   "cell_type": "markdown",
   "id": "ca6cb8c0",
   "metadata": {},
   "source": [
    "## Search!\n",
    "\n",
    "We want to use above index and functions to find all sentences that contain `hamlet` and `horatio`.\n",
    "\n",
    "Write a function `search` that, given a list of keywords, finds all sentence containing all of them."
   ]
  },
  {
   "cell_type": "code",
   "execution_count": null,
   "id": "da61a0e6",
   "metadata": {},
   "outputs": [],
   "source": [
    "def search(*words):\n",
    "    \"\"\"Find all sentence numbers that contain each word in `words`\"\"\"\n",
    "    pass # Your solution here\n",
    "\n",
    "for i,s in enumerate(search(\"hamlet\", \"horatio\")): print(i,s,\" \",*sentences[s])\n",
    "print()\n",
    "for i,s in enumerate(search(\"to\", \"be\", \"or\", \"not\")): print(i,s,\" \",*sentences[s])"
   ]
  },
  {
   "cell_type": "code",
   "execution_count": null,
   "id": "109bc94c",
   "metadata": {
    "editable": false,
    "jupyter": {
     "source_hidden": true
    },
    "tags": [
     "hide-input"
    ]
   },
   "outputs": [],
   "source": [
    "nats25_01_02_information_retrieval.hidden_tests_23_0(search, intersect, index)"
   ]
  },
  {
   "cell_type": "markdown",
   "id": "390a866b",
   "metadata": {},
   "source": [
    "## Compute the union\n",
    "\n",
    "In order to perform \"OR\" searches, e.g., to find all sentences that contain \"hamlet\" or \"horatio\", we need a different merge operation. Also implement the `union` merge using generators as above.\n",
    "\n",
    "You may assume that the input is ordered and does not contain duplicates."
   ]
  },
  {
   "cell_type": "code",
   "execution_count": null,
   "id": "78d3d4d7",
   "metadata": {},
   "outputs": [],
   "source": [
    "def union(itera, iterb):\n",
    "    \"\"\"Generate the union of the two iterators. Do *not* use a list or set!\"\"\"\n",
    "    def safe_next(i):\n",
    "        \"\"\"Helper function because exceptions are not too elegant.\"\"\"\n",
    "        try:\n",
    "            return next(i)\n",
    "        except StopIteration:\n",
    "            return None\n",
    "    itera, iterb = iter(itera), iter(iterb)\n",
    "    a, b = safe_next(itera), safe_next(iterb)\n",
    "    pass # Your solution here\n",
    "\n",
    "print(*union([2,4,6],[1,3,5]))\n",
    "print(*union(\"abc\",\"abc\"))\n",
    "print(*union(range(0,7), range(4,10)))"
   ]
  },
  {
   "cell_type": "code",
   "execution_count": null,
   "id": "e536840f",
   "metadata": {
    "editable": false,
    "jupyter": {
     "source_hidden": true
    },
    "tags": [
     "hide-input"
    ]
   },
   "outputs": [],
   "source": [
    "nats25_01_02_information_retrieval.hidden_tests_26_0(set, list, union)"
   ]
  },
  {
   "cell_type": "markdown",
   "id": "5bc75ddb",
   "metadata": {},
   "source": [
    "## Search with AND and OR\n",
    "\n",
    "Perform a more complex search using above functions.\n",
    "\n",
    "Search for all sentences that contain (\"hamlet\" or \"horatio\") and \"shall\""
   ]
  },
  {
   "cell_type": "code",
   "execution_count": null,
   "id": "a09f5dae",
   "metadata": {},
   "outputs": [],
   "source": [
    "answer = [] # Store your result in this variable\n",
    "pass # Your solution here\n",
    "answer = list(answer) # in case your answer was a generator\n",
    "for i,s in enumerate(answer): print(i, s, \" \", *sentences[s])"
   ]
  },
  {
   "cell_type": "code",
   "execution_count": null,
   "id": "49e45106",
   "metadata": {
    "editable": false,
    "jupyter": {
     "source_hidden": true
    },
    "tags": [
     "hide-input"
    ]
   },
   "outputs": [],
   "source": [
    "nats25_01_02_information_retrieval.hidden_tests_29_0(answer, sentences)"
   ]
  }
 ],
 "metadata": {
  "kernelspec": {
   "display_name": "ml_env",
   "language": "python",
   "name": "python3"
  },
  "language_info": {
   "codemirror_mode": {
    "name": "ipython",
    "version": 3
   },
   "file_extension": ".py",
   "mimetype": "text/x-python",
   "name": "python",
   "nbconvert_exporter": "python",
   "pygments_lexer": "ipython3",
   "version": "3.13.4"
  }
 },
 "nbformat": 4,
 "nbformat_minor": 5
}
