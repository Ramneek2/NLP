{
 "cells": [
  {
   "cell_type": "code",
   "execution_count": null,
   "id": "8a9cc3b1",
   "metadata": {},
   "outputs": [],
   "source": [
    "%pip install --no-cache-dir --force-reinstall https://dm.cs.tu-dortmund.de/nats/nats25_00_01_basics-0.1-py3-none-any.whl\n",
    "import nats25_00_01_basics"
   ]
  },
  {
   "cell_type": "markdown",
   "id": "f528404e",
   "metadata": {},
   "source": [
    "# Introduction\n",
    "## The Basics\n",
    "\n",
    "This notebook is supposed to give you an overview over how the technological systems in this course work.\n",
    "It is therefore the first part of this weeks assignments, that aim at kickstarting your machine learning experience with Python.\n",
    "The excercise will focus heavily on the practical side of machine learning with theoretical \"nuggets\" inbetween.\n",
    "By using and coding models and methods, you will get an in depth understanding of the topics.\n",
    "\n",
    "The excercise to the course will be held via `Jupyter Notebooks` that are a one-page interleaved format for sourcecode (here `Python`) and Markdown (including $\\LaTeX$).\n",
    "To access each of the notebooks, their notebook-code and automated tests are wrapped up in Python packages that can be installed via `pip`.\n",
    "Now this is quite a hand full, so let's go over this one at a time.\n",
    "\n",
    "In this notebook, we will have a glance at the software we are using and in the remaining notebooks of this week, we will take a look at Python. This is of course not a complete overview. For further information please refer to the respective documentations or try finding answers via search engines."
   ]
  },
  {
   "cell_type": "markdown",
   "id": "a92933b4",
   "metadata": {},
   "source": [
    "### JupyterLab\n",
    "\n",
    "Code in JupyterLab is organized in Notebooks, which are lists of cells. Such cells can be Markdown (like this cell) or code (like the cell below).\n",
    "Go ahead and try to execute the cell below:"
   ]
  },
  {
   "cell_type": "code",
   "execution_count": null,
   "id": "49251f23",
   "metadata": {},
   "outputs": [],
   "source": [
    "print(\"Hello World\")"
   ]
  },
  {
   "cell_type": "markdown",
   "id": "6b5a1e28",
   "metadata": {},
   "source": [
    "### Jupyter Notebooks\n",
    "\n",
    "Jupyter Notebooks are a convenient way to combine texts (documentation, assignments, formulae, $\\LaTeX, \\ldots$) and Python code in one view.\n",
    "They are organized in two types of cells (actually four but these are the *important* two): Markdown and code.\n",
    "To change the type of a cell, use the drop down menu in the Jupyter toolbar.\n",
    "\n",
    "Markdown cells can be used for displayed text, such as this description.\n",
    "In Markdown cells you can write any markdown code and parts of $\\LaTeX$.\n",
    "For details on Markdown syntax or which parts of $\\LaTeX$ are supported, please refer to the [official documentation](https://jupyter-notebook.readthedocs.io/en/stable/examples/Notebook/Working%20With%20Markdown%20Cells.html).\n",
    "Executing a markdown cell results in parsing the markdown code into somewhat more readable HTML.\n",
    "To edit an \"executed\" markdown cell, simply double click on it.\n",
    "\n",
    "Your Python code belongs into code cells.\n",
    "You can organize your code in as many code cells as you wish.\n",
    "However, each code cell must contain an interpreter executable piece of code, that is you cannot continue a function definition in another cell, but the entire function must be defined within one cell.\n",
    "Code cells can be executed independently and as often as you wish, however, keeping the code cells in the correct order is highly recommended.\n",
    "To execute code cells, you can press `Ctrl + Enter` (or `Shift + Enter` to execute and move the cursor on), the \"Run\" button above or use one of the many options in the \"Cell\" drop down menu.\n",
    "The output of code cells will always be display right underneath them.\n",
    "\n",
    "Most cells in the assignments will be read only, to prevent you from accidentally deleting the assignment text or code frames.\n",
    "The cells in which you are supposed to write something, will generally be marked accordingly."
   ]
  },
  {
   "cell_type": "markdown",
   "id": "992fc0e1",
   "metadata": {},
   "source": [
    "The Python interpreter has an internal state, so executing the same cell several times may yield different results:"
   ]
  },
  {
   "cell_type": "code",
   "execution_count": null,
   "id": "f042ee53",
   "metadata": {},
   "outputs": [],
   "source": [
    "if not \"i\" in globals(): i = 0\n",
    "i = i + 1\n",
    "print(\"Executed\", i, \"times\")"
   ]
  },
  {
   "cell_type": "markdown",
   "id": "072d8b98",
   "metadata": {},
   "source": [
    "### Python\n",
    "\n",
    "As some (or most) of you are likely not too familiar with Python and the preinstalled packages, the other notebooks this week give an overview over required and recommended features.\n"
   ]
  }
 ],
 "metadata": {
  "kernelspec": {
   "display_name": "Python 3 (ipykernel)",
   "language": "python",
   "name": "python3"
  }
 },
 "nbformat": 4,
 "nbformat_minor": 5
}
