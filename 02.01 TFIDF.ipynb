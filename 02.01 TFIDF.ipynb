{
 "cells": [
  {
   "cell_type": "code",
   "execution_count": null,
   "id": "5fb2d8a7",
   "metadata": {},
   "outputs": [],
   "source": [
    "%pip install numpy scipy scikit-learn pandas\n",
    "%pip install --no-cache-dir --force-reinstall https://dm.cs.tu-dortmund.de/nats/nats25_02_01_tfidf-0.1-py3-none-any.whl\n",
    "import nats25_02_01_tfidf"
   ]
  },
  {
   "cell_type": "markdown",
   "id": "d90c2302",
   "metadata": {},
   "source": [
    "# TF-IDF\n",
    "## Setup our working context and load the data\n",
    "\n",
    "In this assignment, we will work with a database of inaugural speeches of US presidents."
   ]
  },
  {
   "cell_type": "code",
   "execution_count": null,
   "id": "985a835f",
   "metadata": {},
   "outputs": [],
   "source": [
    "import numpy as np, pandas as pd, scipy\n",
    "import gzip, json, urllib\n",
    "file_path, _ = urllib.request.urlretrieve(\"https://dm.cs.tu-dortmund.de/nats/data/inaugural.json.gz\")\n",
    "inaugural = json.load(gzip.open(file_path,\"rt\"))\n",
    "labels = [t[0] for t in inaugural]\n",
    "speeches = [t[1] for t in inaugural]"
   ]
  },
  {
   "cell_type": "markdown",
   "id": "239a8c40",
   "metadata": {},
   "source": [
    "## Build a Sparse Document-Term Matrix\n",
    "\n",
    "Build a document-term matrix for the inaugural speeches.\n",
    "\n",
    "Use sparse data structures, a minimum document frequency of 5, remove english stopwords."
   ]
  },
  {
   "cell_type": "code",
   "execution_count": null,
   "id": "af1d6372",
   "metadata": {},
   "outputs": [],
   "source": [
    "from sklearn.feature_extraction.text import CountVectorizer # Please use this\n",
    "vocab = None # Your vocabulary\n",
    "dtm = None # Your sparse document term matrix\n",
    "pass # Your solution here\n",
    "print(\"Document term matrix has shape\", dtm.shape)"
   ]
  },
  {
   "cell_type": "code",
   "execution_count": null,
   "id": "61d78483",
   "metadata": {
    "editable": false,
    "jupyter": {
     "source_hidden": true
    },
    "tags": [
     "hide-input"
    ]
   },
   "outputs": [],
   "source": [
    "nats25_02_01_tfidf.hidden_tests_4_0(vocab, dtm, speeches)"
   ]
  },
  {
   "cell_type": "code",
   "execution_count": null,
   "id": "d236c994",
   "metadata": {},
   "outputs": [],
   "source": [
    "# Pretty display the data with pandas:\n",
    "pd.DataFrame.sparse.from_spmatrix(dtm,index=labels,columns=vocab).head()"
   ]
  },
  {
   "cell_type": "markdown",
   "id": "e3e2fb4e",
   "metadata": {},
   "source": [
    "## Most Frequent Words for Each Speech\n",
    "\n",
    "Compute the most frequent word (except for the stopwords already removed) for each speech."
   ]
  },
  {
   "cell_type": "code",
   "execution_count": null,
   "id": "35c525ec",
   "metadata": {},
   "outputs": [],
   "source": [
    "# Build a dictionary speech label to most frequent word\n",
    "most_frequent = dict()\n",
    "pass # Your solution here\n",
    "\n",
    "for sp, w in sorted(most_frequent.items()): print(sp, w, sep=\"\\t\")"
   ]
  },
  {
   "cell_type": "code",
   "execution_count": null,
   "id": "3222feeb",
   "metadata": {
    "editable": false,
    "jupyter": {
     "source_hidden": true
    },
    "tags": [
     "hide-input"
    ]
   },
   "outputs": [],
   "source": [
    "nats25_02_01_tfidf.hidden_tests_8_0(labels, most_frequent)"
   ]
  },
  {
   "cell_type": "markdown",
   "id": "8afe17ac",
   "metadata": {},
   "source": [
    "## TF-IDF\n",
    "\n",
    "From the document-term matrix, compute the TF-IDF matrix. Implement the standard version of TF-IDF (`ltc`).\n",
    "\n",
    "Be careful with 0 values, ensure that your matrix remains *sparse*. Do *not* rely on Wikipedia, it has errors.\n",
    "\n",
    "Perform the transformation in three steps, named `tf`, `idf`, `tfidf`. First implement term frequency."
   ]
  },
  {
   "cell_type": "code",
   "execution_count": null,
   "id": "45a74e9f",
   "metadata": {},
   "outputs": [],
   "source": [
    "def tf(dtm):\n",
    "    \"\"\"Compute the \"l\" step of standard TF-IDF\"\"\"\n",
    "    # HINT: use dtm.astype(np.float32) to get a *sparse floating point copy* of the dtm matrix.\n",
    "    pass # Your solution here\n",
    "print(\"Old sum:\", dtm.sum(), \"new sum:\", tf(dtm).sum(), \"(must be less and float)\")"
   ]
  },
  {
   "cell_type": "code",
   "execution_count": null,
   "id": "61794b48",
   "metadata": {},
   "outputs": [],
   "source": [
    "# Inspect your matrix\n",
    "pd.DataFrame.sparse.from_spmatrix(tf(dtm),index=labels,columns=vocab).head()"
   ]
  },
  {
   "cell_type": "code",
   "execution_count": null,
   "id": "37e97baa",
   "metadata": {
    "editable": false,
    "jupyter": {
     "source_hidden": true
    },
    "tags": [
     "hide-input"
    ]
   },
   "outputs": [],
   "source": [
    "nats25_02_01_tfidf.hidden_tests_12_0(dtm, tf)"
   ]
  },
  {
   "cell_type": "markdown",
   "id": "1fc3c127",
   "metadata": {},
   "source": [
    "Implement the `idf` function."
   ]
  },
  {
   "cell_type": "code",
   "execution_count": null,
   "id": "b4a40fb8",
   "metadata": {},
   "outputs": [],
   "source": [
    "def idf(dtm):\n",
    "    \"\"\" Compute the \"t\" step inverse document frequency \"\"\"\n",
    "    pass # Your solution here"
   ]
  },
  {
   "cell_type": "code",
   "execution_count": null,
   "id": "54b1ec36",
   "metadata": {},
   "outputs": [],
   "source": [
    "b=(np.ones((dtm.shape[0],)) @ dtm)\n",
    "print(np.log(dtm.shape[0] / b))\n",
    "print(idf(dtm))"
   ]
  },
  {
   "cell_type": "code",
   "execution_count": null,
   "id": "0b2d642a",
   "metadata": {
    "editable": false,
    "jupyter": {
     "source_hidden": true
    },
    "tags": [
     "hide-input"
    ]
   },
   "outputs": [],
   "source": [
    "nats25_02_01_tfidf.hidden_tests_16_0(dtm, idf)"
   ]
  },
  {
   "cell_type": "markdown",
   "id": "43fe1f04",
   "metadata": {},
   "source": [
    "Now implement the full `tfidf` function, using above implementations of `df` and `idf`.\n",
    "\n",
    "Hint: you may find `scipy.sparse.spdiags` useful to keep the computations *sparse*.\n",
    "\n",
    "You are **not allowed** to use sklearns `TfidfVectorizer`!"
   ]
  },
  {
   "cell_type": "code",
   "execution_count": null,
   "id": "29cff8e0",
   "metadata": {},
   "outputs": [],
   "source": [
    "def tfidf(dtm):\n",
    "    \"\"\"Finish the computation of standard TF-IDF with the c step\"\"\"\n",
    "    _tf, _idf = tf(dtm), idf(dtm) # Must use above functions.\n",
    "    pass # Your solution here"
   ]
  },
  {
   "cell_type": "code",
   "execution_count": null,
   "id": "994a1873",
   "metadata": {},
   "outputs": [],
   "source": [
    "# Inspect your matrix\n",
    "pd.DataFrame.sparse.from_spmatrix(tfidf(dtm),index=labels,columns=vocab).head()"
   ]
  },
  {
   "cell_type": "code",
   "execution_count": null,
   "id": "65fc7d2c",
   "metadata": {
    "editable": false,
    "jupyter": {
     "source_hidden": true
    },
    "tags": [
     "hide-input"
    ]
   },
   "outputs": [],
   "source": [
    "nats25_02_01_tfidf.hidden_tests_20_0(dtm, tfidf)"
   ]
  },
  {
   "cell_type": "markdown",
   "id": "75024d58",
   "metadata": {},
   "source": [
    "## Compare to sklearn\n",
    "\n",
    "Now you are allowed to use `TfidfVectorizer`!\n",
    "\n",
    "Use sklearns `TfidfVectorizer` (make sure to choose parameters appropriately). Compare the results."
   ]
  },
  {
   "cell_type": "code",
   "execution_count": null,
   "id": "2359dea4",
   "metadata": {},
   "outputs": [],
   "source": [
    "from sklearn.feature_extraction.text import TfidfVectorizer\n",
    "tvect = TfidfVectorizer() # set appropriate parameters!\n",
    "sktfidf = None # Store the TF-IDF result obtained via sklearn\n",
    "skvocab = None # The vocabulary\n",
    "pass # Your solution here"
   ]
  },
  {
   "cell_type": "code",
   "execution_count": null,
   "id": "875f035f",
   "metadata": {},
   "outputs": [],
   "source": [
    "# Pretty display the data with pandas:\n",
    "pd.DataFrame.sparse.from_spmatrix(sktfidf,index=labels,columns=skvocab).head()"
   ]
  },
  {
   "cell_type": "code",
   "execution_count": null,
   "id": "2070ceca",
   "metadata": {
    "editable": false,
    "jupyter": {
     "source_hidden": true
    },
    "tags": [
     "hide-input"
    ]
   },
   "outputs": [],
   "source": [
    "nats25_02_01_tfidf.hidden_tests_24_0(vocab, skvocab, dtm, sktfidf)"
   ]
  },
  {
   "cell_type": "markdown",
   "id": "7bc82e35",
   "metadata": {},
   "source": [
    "## Understand the difference\n",
    "\n",
    "By visual inspection of the two matrixes, you will notice that they do *not* agree.\n",
    "\n",
    "Check the [bug reports of scikit-learn](https://github.com/scikit-learn/scikit-learn/issues?q=is%3Aissue+tf-idf+is%3Aopen) for related bug reports, and check the scikit-learn documentation *carefully* to figure out the difference.\n",
    "\n",
    "Is it better or worse? We don't know. But scikit-learn does not implement the standard approach!\n",
    "\n",
    "But: we can easily \"hack\" sklearn to produce the desired result.\n",
    "\n",
    "Hint: Use `fit`, adjust the vectorizer, and `tranform` separately."
   ]
  },
  {
   "cell_type": "code",
   "execution_count": null,
   "id": "b8499b50",
   "metadata": {},
   "outputs": [],
   "source": [
    "# Work around this issue in scikit-learn\n",
    "tvect2 = TfidfVectorizer() # set appropriate parameters!\n",
    "sktfidf2 = None # Store the TF-IDF result obtained via sklearn\n",
    "skvocab2 = None # The vocabulary\n",
    "# Use fit(), adjust as necessary, transform() to get the desired result!\n",
    "pass # Your solution here"
   ]
  },
  {
   "cell_type": "code",
   "execution_count": null,
   "id": "73b379b5",
   "metadata": {},
   "outputs": [],
   "source": [
    "# Pretty display the data with pandas:\n",
    "pd.DataFrame.sparse.from_spmatrix(sktfidf2,index=labels,columns=skvocab2).head()"
   ]
  },
  {
   "cell_type": "code",
   "execution_count": null,
   "id": "6330bbc6",
   "metadata": {
    "editable": false,
    "jupyter": {
     "source_hidden": true
    },
    "tags": [
     "hide-input"
    ]
   },
   "outputs": [],
   "source": [
    "nats25_02_01_tfidf.hidden_tests_28_0(sktfidf, skvocab2, vocab, dtm, sktfidf2, tfidf)"
   ]
  },
  {
   "cell_type": "markdown",
   "id": "58446203",
   "metadata": {},
   "source": [
    "## Compute the Cosine Similarity Matrix\n",
    "\n",
    "Compute the cosine similarity matrix of the speeches above.\n",
    "\n",
    "You are not allowed to use sklearn for this."
   ]
  },
  {
   "cell_type": "code",
   "execution_count": null,
   "id": "952707cf",
   "metadata": {},
   "outputs": [],
   "source": [
    "X = tfidf(dtm) # use your own tfidf results\n",
    "sim = None # Compute cosine similarities\n",
    "pass # Your solution here\n",
    "del X # free memory again.\n",
    "print(\"Matrix of shape %d x %d\" % sim.shape)"
   ]
  },
  {
   "cell_type": "code",
   "execution_count": null,
   "id": "492fec16",
   "metadata": {
    "editable": false,
    "jupyter": {
     "source_hidden": true
    },
    "tags": [
     "hide-input"
    ]
   },
   "outputs": [],
   "source": [
    "nats25_02_01_tfidf.hidden_tests_31_0(sim, dtm)"
   ]
  },
  {
   "cell_type": "markdown",
   "id": "2445f430",
   "metadata": {},
   "source": [
    "## Find the two most similar speeches\n",
    "\n",
    "Given the similarity matrix, find the two most similar (different) speeches."
   ]
  },
  {
   "cell_type": "code",
   "execution_count": null,
   "id": "5ed20f63",
   "metadata": {},
   "outputs": [],
   "source": [
    "most_similar = (None, None, None) # Store a pair of document *labels* and their similarity\n",
    "pass # Your solution here\n",
    "print(\"%s\\t%s\\t%g\" % most_similar)"
   ]
  },
  {
   "cell_type": "code",
   "execution_count": null,
   "id": "ba8d5b35",
   "metadata": {
    "editable": false,
    "jupyter": {
     "source_hidden": true
    },
    "tags": [
     "hide-input"
    ]
   },
   "outputs": [],
   "source": [
    "nats25_02_01_tfidf.hidden_tests_34_0(sim, labels, most_similar)"
   ]
  }
 ],
 "metadata": {
  "kernelspec": {
   "display_name": "Python 3 (ipykernel)",
   "language": "python",
   "name": "python3"
  }
 },
 "nbformat": 4,
 "nbformat_minor": 5
}
