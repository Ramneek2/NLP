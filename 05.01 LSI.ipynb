{
 "cells": [
  {
   "cell_type": "code",
   "execution_count": null,
   "id": "6e1f89f7",
   "metadata": {},
   "outputs": [],
   "source": [
    "%pip install numpy scikit-learn\n",
    "%pip install --no-cache-dir --force-reinstall https://dm.cs.tu-dortmund.de/nats/nats25_05_01_lsi-0.1-py3-none-any.whl\n",
    "import nats25_05_01_lsi"
   ]
  },
  {
   "cell_type": "markdown",
   "id": "a0083a0c",
   "metadata": {},
   "source": [
    "# Latent Semantic Indexing\n",
    "\n",
    "First we will implement latent semantic indexing (LSI)"
   ]
  },
  {
   "cell_type": "code",
   "execution_count": null,
   "id": "0fedcfe7",
   "metadata": {},
   "outputs": [],
   "source": [
    "### Load the input data - do not modify\n",
    "import json, gzip, urllib, numpy as np\n",
    "file_path, _ = urllib.request.urlretrieve(\"https://dm.cs.tu-dortmund.de/nats/data/minecraft-articles.json.gz\")\n",
    "raw = json.load(gzip.open(file_path, \"rt\", encoding=\"utf-8\"))\n",
    "titles, texts, classes = [x[\"title\"] for x in raw], [x[\"text\"] for x in raw], [x[\"heuristic\"] for x in raw]"
   ]
  },
  {
   "cell_type": "code",
   "execution_count": null,
   "id": "d9fa4a32",
   "metadata": {},
   "outputs": [],
   "source": [
    "### Vectorize the text - do not modify\n",
    "from sklearn.feature_extraction.text import TfidfVectorizer, CountVectorizer\n",
    "vect = TfidfVectorizer(stop_words=\"english\", sublinear_tf=True, smooth_idf=False, min_df=5)\n",
    "vect.fit(texts)\n",
    "vect.idf_ -= 1\n",
    "idf = vect.idf_\n",
    "tfidf = vect.transform(texts)\n",
    "vocabulary = vect.get_feature_names_out()"
   ]
  },
  {
   "cell_type": "markdown",
   "id": "d4eaf57d",
   "metadata": {},
   "source": [
    "## Implement LSI\n",
    "\n",
    "Implement Latent Semantic Indexing. Do **not** use regular SVD, but instead use truncated SVD from sklearn. (Do not attempt to implement Truncated SVD yourself, use the library here.) Return weights how well the factors explain the topics."
   ]
  },
  {
   "cell_type": "code",
   "execution_count": null,
   "id": "88b80af6",
   "metadata": {},
   "outputs": [],
   "source": [
    "# Implement LSI here\n",
    "def lsi(tfidf, k):\n",
    "    \"\"\"Latent Semantic Indexing. Return the factors, document assignment, and factor weights\"\"\"\n",
    "    from sklearn.decomposition import TruncatedSVD\n",
    "    pass # Your solution here\n",
    "    return factors, assignment, weights"
   ]
  },
  {
   "cell_type": "code",
   "execution_count": null,
   "id": "5a5eb624",
   "metadata": {
    "editable": false,
    "jupyter": {
     "source_hidden": true
    },
    "tags": [
     "hide-input"
    ]
   },
   "outputs": [],
   "source": [
    "nats25_05_01_lsi.hidden_tests_5_0(lsi, tfidf)"
   ]
  },
  {
   "cell_type": "markdown",
   "id": "3c025e60",
   "metadata": {},
   "source": [
    "## Explore your result\n",
    "\n",
    "Explore the result: write a function to determine the most important words for each factor, and the most relevant documents."
   ]
  },
  {
   "cell_type": "code",
   "execution_count": null,
   "id": "8833d6a7",
   "metadata": {},
   "outputs": [],
   "source": [
    "def most_important(vocabulary, factor, k=10):\n",
    "    \"\"\"Most important words for each factor\"\"\"\n",
    "    pass # Your solution here\n",
    "\n",
    "def most_relevant(assignment, k=5):\n",
    "    \"\"\"Most relevant documents for each factor (return document indexes)\"\"\"\n",
    "    pass # Your solution here\n",
    "\n",
    "def explain(vocabulary, titles, classes, factors, assignment, weights=None):\n",
    "    \"\"\"Print an explanation for each factor.\n",
    "       If weights is None, use the relative share of the assignment weights.\n",
    "       Print the ARI when assigning each document to its maximum only.\"\"\"\n",
    "    from sklearn.metrics import adjusted_rand_score\n",
    "    pass # Your solution here"
   ]
  },
  {
   "cell_type": "code",
   "execution_count": null,
   "id": "98a1b006",
   "metadata": {
    "editable": false,
    "jupyter": {
     "source_hidden": true
    },
    "tags": [
     "hide-input"
    ]
   },
   "outputs": [],
   "source": [
    "print=print # Weird JupyterLite fix\n",
    "nats25_05_01_lsi.hidden_tests_8_0(titles, vocabulary, print, most_important, most_relevant, classes, explain, lsi, tfidf)"
   ]
  },
  {
   "cell_type": "code",
   "execution_count": null,
   "id": "ef2c3e37",
   "metadata": {},
   "outputs": [],
   "source": [
    "# Explore your result. These should mostly be meaningful topics!\n",
    "lsi_factors, lsi_assignment, lsi_weights = lsi(tfidf, 8)\n",
    "explain(vocabulary, titles, classes, lsi_factors, lsi_assignment, lsi_weights)"
   ]
  },
  {
   "cell_type": "code",
   "execution_count": null,
   "id": "86afdebc",
   "metadata": {
    "editable": false,
    "jupyter": {
     "source_hidden": true
    },
    "tags": [
     "hide-input"
    ]
   },
   "outputs": [],
   "source": [
    "nats25_05_01_lsi.hidden_tests_10_0(most_important, lsi_factors, vocabulary)"
   ]
  }
 ],
 "metadata": {
  "kernelspec": {
   "display_name": "Python 3 (ipykernel)",
   "language": "python",
   "name": "python3"
  }
 },
 "nbformat": 4,
 "nbformat_minor": 5
}
