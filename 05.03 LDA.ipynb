{
 "cells": [
  {
   "cell_type": "code",
   "execution_count": null,
   "id": "db0e7fc2",
   "metadata": {},
   "outputs": [],
   "source": [
    "%pip install numpy scikit-learn\n",
    "%pip install --no-cache-dir --force-reinstall https://dm.cs.tu-dortmund.de/nats/nats25_05_03_lda-0.1-py3-none-any.whl\n",
    "import nats25_05_03_lda"
   ]
  },
  {
   "cell_type": "markdown",
   "id": "345e618c",
   "metadata": {},
   "source": [
    "# Latent Dirichlet Allocation\n",
    "\n",
    "Now we will use latent dirichlet allocation."
   ]
  },
  {
   "cell_type": "code",
   "execution_count": null,
   "id": "3324cdab",
   "metadata": {},
   "outputs": [],
   "source": [
    "### Load the input data - do not modify\n",
    "import json, gzip, urllib, numpy as np\n",
    "file_path, _ = urllib.request.urlretrieve(\"https://dm.cs.tu-dortmund.de/nats/data/minecraft-articles.json.gz\")\n",
    "raw = json.load(gzip.open(file_path, \"rt\", encoding=\"utf-8\"))\n",
    "titles, texts, classes = [x[\"title\"] for x in raw], [x[\"text\"] for x in raw], [x[\"heuristic\"] for x in raw]"
   ]
  },
  {
   "cell_type": "code",
   "execution_count": null,
   "id": "59944020",
   "metadata": {},
   "outputs": [],
   "source": [
    "### Vectorize the text - do not modify\n",
    "from sklearn.feature_extraction.text import CountVectorizer\n",
    "cvect = CountVectorizer(stop_words=\"english\", min_df=5)\n",
    "counts = cvect.fit_transform(texts)\n",
    "vocabulary = cvect.get_feature_names_out()"
   ]
  },
  {
   "cell_type": "markdown",
   "id": "1420e28e",
   "metadata": {},
   "source": [
    "## Explore your result\n",
    "\n",
    "Explore the result: write a function to determine the most important words for each factor, and the most relevant documents.\n",
    "\n",
    "**COPY your code from the first file here** (one of the rare cases, where copying is okay)"
   ]
  },
  {
   "cell_type": "code",
   "execution_count": null,
   "id": "68a7f19e",
   "metadata": {},
   "outputs": [],
   "source": [
    "def most_important(vocabulary, factor, k=10):\n",
    "    \"\"\"Most important words for each factor\"\"\"\n",
    "    pass # Your solution here\n",
    "\n",
    "def most_relevant(assignment, k=5):\n",
    "    \"\"\"Most relevant documents for each factor (return document indexes)\"\"\"\n",
    "    pass # Your solution here\n",
    "\n",
    "def explain(vocabulary, titles, classes, factors, assignment, weights=None):\n",
    "    \"\"\"Print an explanation for each factor.\n",
    "       If weights is None, use the relative share of the assignment weights.\n",
    "       Print the ARI when assigning each document to its maximum only.\"\"\"\n",
    "    from sklearn.metrics import adjusted_rand_score\n",
    "    pass # Your solution here"
   ]
  },
  {
   "cell_type": "markdown",
   "id": "d6283739",
   "metadata": {},
   "source": [
    "## Latent Dirichlet Allocation\n",
    "\n",
    "Apply LDA from the `sklearn` package onto the data. Return the topic word distributions as well as the document topic distributions."
   ]
  },
  {
   "cell_type": "code",
   "execution_count": null,
   "id": "2da651db",
   "metadata": {},
   "outputs": [],
   "source": [
    "### Use sklearn LDA here:\n",
    "def lda(counts, k):\n",
    "    \"\"\"Latent Dirichlet Allocation. Return the factors and document assignment\"\"\"\n",
    "    pass # Your solution here\n",
    "    return factors, assignment"
   ]
  },
  {
   "cell_type": "code",
   "execution_count": null,
   "id": "61b8a275",
   "metadata": {
    "editable": false,
    "jupyter": {
     "source_hidden": true
    },
    "tags": [
     "hide-input"
    ]
   },
   "outputs": [],
   "source": [
    "nats25_05_03_lda.hidden_tests_7_0(counts, lda)"
   ]
  },
  {
   "cell_type": "code",
   "execution_count": null,
   "id": "4f84ab17",
   "metadata": {},
   "outputs": [],
   "source": [
    "# Explore your result. These must be meaningful topics!\n",
    "# but the most relevant documents found here are not as good\n",
    "lda_factors, lda_assignment = lda(counts, 8)\n",
    "explain(vocabulary, titles, classes, lda_factors, lda_assignment)"
   ]
  },
  {
   "cell_type": "code",
   "execution_count": null,
   "id": "6faac9c1",
   "metadata": {
    "editable": false,
    "jupyter": {
     "source_hidden": true
    },
    "tags": [
     "hide-input"
    ]
   },
   "outputs": [],
   "source": [
    "nats25_05_03_lda.hidden_tests_9_0(most_important, lda_factors, vocabulary)"
   ]
  }
 ],
 "metadata": {
  "kernelspec": {
   "display_name": "Python 3 (ipykernel)",
   "language": "python",
   "name": "python3"
  }
 },
 "nbformat": 4,
 "nbformat_minor": 5
}
