{
 "cells": [
  {
   "cell_type": "code",
   "execution_count": null,
   "id": "5de02a70",
   "metadata": {},
   "outputs": [],
   "source": [
    "%pip install --no-cache-dir --force-reinstall https://dm.cs.tu-dortmund.de/nats/nats25_00_02_python_basics-0.1-py3-none-any.whl\n",
    "import nats25_00_02_python_basics"
   ]
  },
  {
   "cell_type": "markdown",
   "id": "cff2617d",
   "metadata": {},
   "source": [
    "# Introduction\n",
    "## Python (Basics)\n",
    "\n",
    "In this notebook, we will have a glance at the most basic functionalities of Python, that you need to write your first pieces of code.\n",
    "Understanding Python is elementary to the excercises for this course.\n",
    "To keep things simple for those who are unfamiliar with Python, most excercises contain code frames that you need to fill.\n",
    "As a bonus excercise in Python, it is highly encouraged that you try to understand everything in the code frames!\n",
    "\n",
    "If you do not understand something, try first to read it up in the docs, on stack overflow, or wherever, and if everything else fails, ask me.  \n",
    "Giving up is not an option. 😉"
   ]
  },
  {
   "cell_type": "markdown",
   "id": "9d9e8c8e",
   "metadata": {},
   "source": [
    "### Kernels and notebooks\n",
    "Python is an interpreter language which means it is not compiled but the source code is parsed during running time and executed by the interpreter.\n",
    "An instance of the interpreter is called kernel.\n",
    "Where classically interpreter languages execute a script and exit afterwards, a lot of modern Python programming is centered around interactive sessions on an interactive Python kernel with some benefits like built-in plot visualization (IPython), that allows additional inputs during runtime, similar to a shell.\n",
    "The IPython kernel keeps all globally defined variables from previous code in scope for future reference.\n",
    "Notebooks make use of that concept by keeping an IPython kernel alive in the background and feeding it the code of whatever cell you wish to execute.\n",
    "The global variable scope then allows to reference functions and variables from other cells.\n",
    "But we need to keep in mind, that all these variables are held in the scope of the kernel and as soon, as we restart the kernel (e.g. when reopening the notebook), the variable scope is gone.\n",
    "It is therefore strictly recommended to keep your cells \"in order\" and not reference upward of the current before "
   ]
  },
  {
   "cell_type": "markdown",
   "id": "14e1803c",
   "metadata": {},
   "source": [
    "### Variables\n",
    "\n",
    "Python is untyped which makes writing Python code pretty easy.\n",
    "New variables do not need to be declared but can be used on the left hand side of an assignment immediately:"
   ]
  },
  {
   "cell_type": "code",
   "execution_count": null,
   "id": "1c567b5e",
   "metadata": {},
   "outputs": [],
   "source": [
    "# Basic data types\n",
    "myString = \"Hello World\" # = 'Hello World' # Single and double quotes are interchangeable\n",
    "myInt = 5\n",
    "myFloat = 5.5\n",
    "myBoolean = True # alternatively False\n",
    "\n",
    "# Untyped variables can require some getting used to\n",
    "myVar = myString\n",
    "myVar = myInt\n",
    "myVar = myFloat\n",
    "myVar = myBoolean\n",
    "myVar = None # The equivalent of \"null\" in other languages\n",
    "\n",
    "print(\"myString =\", myString)\n",
    "print(\"myInt =\", myInt)\n",
    "print(\"myFloat =\", myFloat)\n",
    "print(\"myBoolean =\", myBoolean)\n",
    "print(\"myVar =\", myVar)"
   ]
  },
  {
   "cell_type": "markdown",
   "id": "eb63854e",
   "metadata": {},
   "source": [
    "Now it is time for you to write some code.\n",
    "Define two variables `firstName` and `lastName`, concatenate them with a space inbetween and store the result in a variable `fullName`.\n",
    "String concatenation in Python works with the `+` sign (to append something else, simply cast it to string using the function `str`)."
   ]
  },
  {
   "cell_type": "code",
   "execution_count": null,
   "id": "07b25359",
   "metadata": {},
   "outputs": [],
   "source": [
    "# firstName = ...\n",
    "# lastName = ...\n",
    "# fullName = ...\n",
    "pass # Your solution here\n",
    "print(fullName)"
   ]
  },
  {
   "cell_type": "markdown",
   "id": "67cdba34",
   "metadata": {},
   "source": [
    "This is a test cell. Do not worry if you don't understand this code yet.\n",
    "At the end of this notebook, read these test cases again and check if you fully understand how they work."
   ]
  },
  {
   "cell_type": "code",
   "execution_count": null,
   "id": "a895356d",
   "metadata": {},
   "outputs": [],
   "source": [
    "assert firstName in fullName, \"First name is not part of full name\"\n",
    "assert lastName in fullName, \"Last name is not part of full name\"\n",
    "assert fullName[:len(firstName)] == firstName, \"Full name does not start with first name\"\n",
    "assert fullName[-len(lastName):] == lastName, \"Full name does not end with last name\"\n",
    "assert fullName[len(firstName)] == \" \", \"After first name must be a space\""
   ]
  },
  {
   "cell_type": "markdown",
   "id": "a4ff0412",
   "metadata": {},
   "source": [
    "In future notebooks, you will encounter hidden test cells, that adopt your global variables and run some automatic tests to validate your code.\n",
    "The cell below is an example of such a test cell, that runs the same code as the visible tests above."
   ]
  },
  {
   "cell_type": "code",
   "execution_count": null,
   "id": "ee356ffd",
   "metadata": {
    "editable": false,
    "jupyter": {
     "source_hidden": true
    },
    "tags": [
     "hide-input"
    ]
   },
   "outputs": [],
   "source": [
    "nats25_00_02_python_basics.hidden_tests_9_0(fullName, lastName, firstName)"
   ]
  },
  {
   "cell_type": "markdown",
   "id": "51946e6c",
   "metadata": {},
   "source": [
    "### Data structures\n",
    "\n",
    "The most basic data structures in Python are lists, tuples and dictionaries.\n",
    "- Lists (square brackets) are simply a linear collection of values independent of their type.\n",
    "Further, lists have a variable length which makes them the go to solution for many applications.\n",
    "- Tuples (round brackets) are basically the same as lists but they are immutable: You can not change values in a tuple or change its size.\n",
    "- Dictionaries (curly brackets) are basically hashmaps and can contain any number of key-value-pairs, again independent of their types."
   ]
  },
  {
   "cell_type": "code",
   "execution_count": null,
   "id": "0a513254",
   "metadata": {},
   "outputs": [],
   "source": [
    "myList = [1,2,3,4,5]\n",
    "myTuple = (myString,myInt) # Only executes correctly after executing above code cell\n",
    "myDict = {\n",
    "    \"Foo\" : 100,\n",
    "    2 : \"bar\",\n",
    "}\n",
    "print(\"myList =\",myList)\n",
    "print(\"myTuple =\",myTuple)\n",
    "print(\"myDict =\",myDict)"
   ]
  },
  {
   "cell_type": "markdown",
   "id": "60b19c94",
   "metadata": {},
   "source": [
    "To adress values within lists and tuples, you can procede similar to arrays in other programming languages, by providing an index in square brackets like `myList[2]`.\n",
    "Adressing values in dictionaries is similar but you need to provide a key rather than an index as in `myDict[\"Foo\"]`.\n",
    "To get the size of any of these data structures, you can use the length function `len` as in `len(myList)`.\n",
    "\n",
    "Some of the more important features of lists in Python are slicing and list comprehension.\n",
    "Slicing a list/tuple means taking a sublist/subtuple defined by a starting index (inclusive) and an ending index (exclusive).\n",
    "The starting and ending index are seperated by a colon.\n",
    "Not providing a starting or ending index is equivalent to 0 or the length of the list/tuple.\n",
    "Negative indices are valid and describe a position from the end of the list/index."
   ]
  },
  {
   "cell_type": "code",
   "execution_count": null,
   "id": "38b344cc",
   "metadata": {},
   "outputs": [],
   "source": [
    "mySlice = myList[:] # Take everything\n",
    "print(\"mySlice =\",mySlice)\n",
    "mySlice = myList[:3] # Take the first 3 elements\n",
    "print(\"mySlice =\",mySlice)\n",
    "mySlice = myList[-3:] # Take the last 3 elements\n",
    "print(\"mySlice =\",mySlice)\n",
    "mySlice = myList[1:4] # Take the elements 1, 2 and 3\n",
    "print(\"mySlice =\",mySlice)"
   ]
  },
  {
   "cell_type": "markdown",
   "id": "6e21544e",
   "metadata": {},
   "source": [
    "List comprehensions are an easy way to create a list with very little code.\n",
    "The basic idea is to write an expression, that describes all elements that should be contained in the resulting list inside brackets.\n",
    "The definition must start with the expression that defines the elements (below `i*2`) and end with an expression that explains how the variables in the prior part should be substituted.variables shall be "
   ]
  },
  {
   "cell_type": "code",
   "execution_count": null,
   "id": "46a090d7",
   "metadata": {},
   "outputs": [],
   "source": [
    "mySecondList = [i*2 for i in myList]\n",
    "print(mySecondList)"
   ]
  },
  {
   "cell_type": "markdown",
   "id": "c661f085",
   "metadata": {},
   "source": [
    "Similarly, one can apply a dictionary comprehension by replacing the prior expression with a mapping definition `key: value` like below."
   ]
  },
  {
   "cell_type": "code",
   "execution_count": null,
   "id": "0d31f76d",
   "metadata": {},
   "outputs": [],
   "source": [
    "mySecondDict = {str(i): 2**i for i in myList}\n",
    "print(mySecondDict)"
   ]
  },
  {
   "cell_type": "markdown",
   "id": "c3cf124c",
   "metadata": {},
   "source": [
    "If you wish to limit the iterative part of the list comprehension to specific elements you can append an if clause to the end."
   ]
  },
  {
   "cell_type": "code",
   "execution_count": null,
   "id": "241ef6a6",
   "metadata": {},
   "outputs": [],
   "source": [
    "myThirdList = [i//2 for i in myList if i % 2 == 0] # // is integer division; % is modulo\n",
    "print(myThirdList)"
   ]
  },
  {
   "cell_type": "markdown",
   "id": "ca8ad21d",
   "metadata": {},
   "source": [
    "Now it is once again time for you to write some code.\n",
    "Compute the first 10 powers of 2 (1, 2, 4, $\\ldots$) using a list comprehension and store the result as `firstPowers`.  \n",
    "Hint: `a**b` is Python notation for $a^b$."
   ]
  },
  {
   "cell_type": "code",
   "execution_count": null,
   "id": "fc5f272a",
   "metadata": {},
   "outputs": [],
   "source": [
    "# firstPowers = \n",
    "pass # Your solution here"
   ]
  },
  {
   "cell_type": "code",
   "execution_count": null,
   "id": "756964e4",
   "metadata": {
    "editable": false,
    "jupyter": {
     "source_hidden": true
    },
    "tags": [
     "hide-input"
    ]
   },
   "outputs": [],
   "source": [
    "nats25_00_02_python_basics.hidden_tests_22_0(firstPowers)"
   ]
  },
  {
   "cell_type": "markdown",
   "id": "d97bab61",
   "metadata": {},
   "source": [
    "### Flow control\n",
    "\n",
    "Flow control in Python can be done by the three concepts of `if/elif/else`, `for/else` and `while`.\n",
    "Similar to other languages, you write the keyword followed by a boolean expression (no brackets needed!) followed by a colon.\n",
    "In contrast to other languages, the body of these expressions must not be contained in brackets either, but are disned by indentaion.\n",
    "Experiment a little and change the variables and look"
   ]
  },
  {
   "cell_type": "code",
   "execution_count": null,
   "id": "b338c9aa",
   "metadata": {},
   "outputs": [],
   "source": [
    "if myVar:\n",
    "    print(\"myVar is True\")\n",
    "elif myInt > 3:\n",
    "    print(\"myVar is False but at least myInt is bigger than 3\")\n",
    "else:\n",
    "    print(\"neither is myVar True, nor is myInt bigger than 3\")"
   ]
  },
  {
   "cell_type": "code",
   "execution_count": null,
   "id": "e7ab7a60",
   "metadata": {},
   "outputs": [],
   "source": [
    "for i in range(6): # range(x) creates a sequence of numbers from 0 to x-1; equivalent to [0,1,2,3,4,5] but not actually a list\n",
    "    if i > 5:\n",
    "        print(\"i is too large, breaking out of the loop!\")\n",
    "        break\n",
    "    print(i)\n",
    "else:\n",
    "    print(\"The loop executed completely. No break happened.\")"
   ]
  },
  {
   "cell_type": "code",
   "execution_count": null,
   "id": "48b1648b",
   "metadata": {},
   "outputs": [],
   "source": [
    "i = 1\n",
    "while i < 13:\n",
    "    print(i)\n",
    "    i *= 2\n",
    "else:\n",
    "    print(\"The loop executed completely. No break happened.\")"
   ]
  },
  {
   "cell_type": "markdown",
   "id": "da6eb62b",
   "metadata": {},
   "source": [
    "At times you wish to iterate over multiple lists at once.\n",
    "In other languages, one would define an index variable and fetch the values of each iterable at the specific index in every loop.\n",
    "That is quite cumbersome and requires a lot of code, which is not really \"the Python way\".\n",
    "In Python, you can zip multiple lists using the `zip` function to obtain a joined collection (`zip([1,2,3],[4,5,6])` behaves like `[[1,4],[2,5],[3,6]]`) and \"unwrap\" short collections in place by simply writing multiple variables on the left hand side of an assignment."
   ]
  },
  {
   "cell_type": "code",
   "execution_count": null,
   "id": "b84b3121",
   "metadata": {},
   "outputs": [],
   "source": [
    "myListA = [1,2,3]\n",
    "myListB = [4,5,6]\n",
    "a,b,c = myListA\n",
    "print(\"a =\",a,\"b =\",b,\"c =\",c)\n",
    "for x,y in zip(myListA, myListB):\n",
    "    # This unwrapping also works with multiple return values from functions!\n",
    "    print(\"x =\",x,\"y =\",y)"
   ]
  },
  {
   "cell_type": "markdown",
   "id": "d186b4eb",
   "metadata": {},
   "source": [
    "And it is your time to code again.\n",
    "Write code that concatenates the first 100 integers starting from 1 as a string (`123456789101112...`) until the string is longer than 40 characters.\n",
    "Store the resulting string as `myLongString`."
   ]
  },
  {
   "cell_type": "code",
   "execution_count": null,
   "id": "eda79098",
   "metadata": {},
   "outputs": [],
   "source": [
    "# myLongString = ...\n",
    "pass # Your solution here"
   ]
  },
  {
   "cell_type": "code",
   "execution_count": null,
   "id": "26231575",
   "metadata": {
    "editable": false,
    "jupyter": {
     "source_hidden": true
    },
    "tags": [
     "hide-input"
    ]
   },
   "outputs": [],
   "source": [
    "nats25_00_02_python_basics.hidden_tests_31_0(myLongString)"
   ]
  },
  {
   "cell_type": "markdown",
   "id": "48e9a8b0",
   "metadata": {},
   "source": [
    "### Functions\n",
    "\n",
    "It is of course tedious and confusing to have the entire code in a large blob of text (even if separated into cells).\n",
    "We would rather write compact functions to use again and again.\n",
    "The easiest form to define a function in Python is by the use of the keyword `def`.\n",
    "The syntax is straight forward and feel somehwat familiar to you by now:"
   ]
  },
  {
   "cell_type": "code",
   "execution_count": null,
   "id": "1690427f",
   "metadata": {},
   "outputs": [],
   "source": [
    "def myFunction(myArg1, myArg2):\n",
    "    # This is some nicer printing method. Check out this description: https://pyformat.info/\n",
    "    print(\"I got the arguments '{}' and '{}'.\".format(myArg1,myArg2))\n",
    "    return 1\n",
    "\n",
    "myFunction(\"Hello\", \"World\")\n",
    "myFunction(myArg2=\"Hello\", myArg1=\"World\")"
   ]
  },
  {
   "cell_type": "markdown",
   "id": "1d099c8d",
   "metadata": {},
   "source": [
    "So basically you write `def`, the function name and a comma separated list of arguments in round brackets followed by a colon.\n",
    "As in flow control, the body must be indented!\n",
    "When calling functions, unnamed arguments will be read in order and named arguments will be inserted in the correct position.\n",
    "\n",
    "In case you wish to use default arguments, simply add an assignment to the function definition.\n",
    "Arguments with default names must be behind all arguments without default values."
   ]
  },
  {
   "cell_type": "code",
   "execution_count": null,
   "id": "341ed0c4",
   "metadata": {},
   "outputs": [],
   "source": [
    "def mySecondFunction(myArg1, myArg2=\"Hi\"):\n",
    "    print(\"I got the arguments '{}' and '{}'.\".format(myArg1,myArg2))\n",
    "    return 2\n",
    "\n",
    "mySecondFunction(\"Test\")\n",
    "mySecondFunction(\"Test\", \"Override\")"
   ]
  },
  {
   "cell_type": "markdown",
   "id": "b676de6d",
   "metadata": {},
   "source": [
    "Now it is time again for you to code!\n",
    "Write a function named \"myFibonacci\", that takes an argument `n` and returns a list of the first `n` Fibonacci numbers.\n",
    "In case `n` is not given, assume a default value of 10.  \n",
    "Hint: You can get a list of variable and method names of an object `o` by using the `dir(o)` function. Maybe lists have a function that you need."
   ]
  },
  {
   "cell_type": "code",
   "execution_count": null,
   "id": "d406bd1d",
   "metadata": {},
   "outputs": [],
   "source": [
    "# Define myFibonacci!\n",
    "pass # Your solution here"
   ]
  },
  {
   "cell_type": "code",
   "execution_count": null,
   "id": "4d53de7b",
   "metadata": {
    "editable": false,
    "jupyter": {
     "source_hidden": true
    },
    "tags": [
     "hide-input"
    ]
   },
   "outputs": [],
   "source": [
    "nats25_00_02_python_basics.hidden_tests_38_0(myFibonacci)"
   ]
  },
  {
   "cell_type": "markdown",
   "id": "5d88f29d",
   "metadata": {},
   "source": [
    "### Getting `help`\n",
    "\n",
    "You will often have to rely on predefined functions either from Python itself or imported packages.\n",
    "To get information on what a function can do, you can call the `help` function with a function or type as argument and will receive a print of the functions documentation (if available!)."
   ]
  },
  {
   "cell_type": "code",
   "execution_count": null,
   "id": "ec0b104b",
   "metadata": {},
   "outputs": [],
   "source": [
    "def some_function(x):\n",
    "\t\"\"\"This function is just a stub that consumes the parameter and does nothing.\n",
    "\n",
    "\tParameters\n",
    "\t----------\n",
    "\tx : any\n",
    "\t\tThis is completely ignored.\n",
    "\t\"\"\"\n",
    "\tpass\n",
    "\n",
    "help(some_function)"
   ]
  },
  {
   "cell_type": "markdown",
   "id": "2e44374b",
   "metadata": {},
   "source": [
    "### Looking at `dir`ectories (as in \"table of contents\")\n",
    "\n",
    "Switching between different programming languages, one can easily forget how e.g. \"that specific string operation\" is named in Python.\n",
    "Typically, one would need to open the documentation of `str` and look at what functions it provides.\n",
    "In Python, you can get a list of *all available fields* of any variable/package/class/... by just calling the `dir` function.\n",
    "\n",
    "Calling `dir` will also show you all the \"hidden\" fields of an object.\n",
    "Python does not provide any functionality to hide \"private\" fields to other programmers, instead it is agreed upon, that variables starting with an underscore (except for `scikit-learn` devs, who use a trailing underscore for whatever reason) are not meant for use by other developers.\n",
    "That does not mean, that you can not (or should not) access them, just that any errors resulting from you fiddling with these fields are *your problem*.\n",
    "\n",
    "[\"After all, we're all consenting adults here.\"](https://mail.python.org/pipermail/tutor/2003-October/025932.html)"
   ]
  },
  {
   "cell_type": "code",
   "execution_count": null,
   "id": "b4170739",
   "metadata": {},
   "outputs": [],
   "source": [
    "# This print looks horrible\n",
    "print(\"Plain dir print:\")\n",
    "print(dir(str))\n",
    "# This print looks a bit nicer\n",
    "print(\"\\nString-joined dir print:\")\n",
    "print(\", \".join(dir(str)))\n",
    "# Make a nice print and filter out \"hidden\" fields\n",
    "print(\"\\nFiltered and string-joined dir print:\")\n",
    "print(\", \".join([field for field in dir(str) if not field.startswith(\"_\")]))"
   ]
  },
  {
   "cell_type": "markdown",
   "id": "49440dd9",
   "metadata": {},
   "source": [
    "### Files\n",
    "\n",
    "Reading and writing files is a core functionality of every language.\n",
    "In Python you can open read and write streams to files with the `open` function.\n",
    "The first argument is the file name and the second argument is a string containing `r`,`w`, or `b` for read, write and binary mode.\n",
    "As you should close streams once you are done, you can use the keyword `with` which opens a stream and automatically closes it once the following code block is left.\n",
    "Reading file handles can be used like an iterator over lines."
   ]
  },
  {
   "cell_type": "code",
   "execution_count": null,
   "id": "7b5ef17e",
   "metadata": {},
   "outputs": [],
   "source": [
    "import urllib\n",
    "file_path, _ = urllib.request.urlretrieve(\"https://dm.cs.tu-dortmund.de/nats/data/loremipsum.txt\")\n",
    "with open(file_path,\"rt\") as f:\n",
    "    for line in f:\n",
    "        # str.strip() removes leading and trailing whitespaces such as line breaks.\n",
    "        print(line.strip())"
   ]
  },
  {
   "cell_type": "markdown",
   "id": "df7a9518",
   "metadata": {},
   "source": [
    "This is most of the Python basics.\n",
    "If you find anything in the assignment codes, that you do not fully understand, try looking it up in the docs or search engine.\n",
    "The Python community is quite large and you will very likely find your answer.\n",
    "\n",
    "Next up are the most important packages and how to use them.\n",
    "Afterwards, we will take a look at more advanced Python features, that will be relevant later on in the course."
   ]
  }
 ],
 "metadata": {
  "kernelspec": {
   "display_name": "Python 3 (ipykernel)",
   "language": "python",
   "name": "python3"
  }
 },
 "nbformat": 4,
 "nbformat_minor": 5
}
