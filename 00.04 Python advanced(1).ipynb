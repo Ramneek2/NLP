{
 "cells": [
  {
   "cell_type": "code",
   "execution_count": null,
   "id": "bd464384",
   "metadata": {},
   "outputs": [],
   "source": [
    "%pip install --no-cache-dir --force-reinstall https://dm.cs.tu-dortmund.de/nats/nats25_00_04_python_advanced-0.1-py3-none-any.whl\n",
    "import nats25_00_04_python_advanced"
   ]
  },
  {
   "cell_type": "markdown",
   "id": "2721b772",
   "metadata": {},
   "source": [
    "# Introduction\n",
    "## Python (Advanced)\n",
    "\n",
    "By now you have learned most of what is required for the practical part of this course.\n",
    "In some of the later excercises, we will need some advanced features of Python such as classes.\n",
    "Some other advanced features like lambdas and additional keywords are not necessary but useful at times."
   ]
  },
  {
   "cell_type": "markdown",
   "id": "cc05fe36",
   "metadata": {},
   "source": [
    "### Pass\n",
    "\n",
    "When writing code, one often starts with a bunch of `TODO`s that get filled in later.\n",
    "Python, however, has very strict rules on syntax:\n",
    "After every colon *must* be an indented block with at least one non-comment line of code.\n",
    "To avoid writing stuff like `dump = 0` every time, we can use the keyword `pass` which is basically a \"do nothing\" line."
   ]
  },
  {
   "cell_type": "code",
   "execution_count": null,
   "id": "1c59653e",
   "metadata": {},
   "outputs": [],
   "source": [
    "def myFunction():\n",
    "    # TODO: Finish later\n",
    "    pass"
   ]
  },
  {
   "cell_type": "markdown",
   "id": "c9221f18",
   "metadata": {},
   "source": [
    "### Global\n",
    "\n",
    "Global variables can make ones life easier.\n",
    "Obviously everything that is not defined inside an indented code block is considered global in Python.\n",
    "However, you should not just access global variables inside functions!\n",
    "It can work sometimes but other times you end up using a local variable with the same name and things do not work as intended.\n",
    "To avoid confusion when using global variables, you can declare the use of a global variable with the keyword `global` followed by a comma separated list of global variable names.\n",
    "I recommend putting `global` declarations at the start of your function.\n",
    "In case you need a lot of global variables (or have very long variable names) you can also have multiple `global` declarations in separate lines.\n",
    "Excessive use of global variables is considered bad practice, so use `global` in moderation!"
   ]
  },
  {
   "cell_type": "code",
   "execution_count": null,
   "id": "93e56fb2",
   "metadata": {},
   "outputs": [],
   "source": [
    "globalA = 5\n",
    "globalB = 10\n",
    "\n",
    "def bad_practice():\n",
    "    global globalA, globalB\n",
    "    globalA = 2\n",
    "    return globalA * globalB\n",
    "\n",
    "def worse_practice():\n",
    "    globalA = 1\n",
    "    return globalA * globalB\n",
    "\n",
    "result = bad_practice()\n",
    "print(\"{} * {} = {}\".format(globalA, globalB, result))\n",
    "result = worse_practice()\n",
    "print(\"{} * {} = {}\".format(globalA, globalB, result))"
   ]
  },
  {
   "cell_type": "markdown",
   "id": "3c49352c",
   "metadata": {},
   "source": [
    "### Yield\n",
    "\n",
    "If a function should iterate over input values and produce a bunch of output values, the `yield` keyword can be very useful.\n",
    "Functions, that use the `yield` keyword automatically return an iterator containing all values that have been yielded.\n",
    "Using yield results in lazy evaluation but the result is *not* a list, so you for example can not ask for its length and printing it does not evaluate all values."
   ]
  },
  {
   "cell_type": "code",
   "execution_count": null,
   "id": "287f2da6",
   "metadata": {},
   "outputs": [],
   "source": [
    "def myFunction(inputs):\n",
    "    for i in inputs:\n",
    "        yield 3*i\n",
    "\n",
    "print(myFunction(range(10)))\n",
    "print(list(myFunction(range(10))))"
   ]
  },
  {
   "cell_type": "markdown",
   "id": "67dee90a",
   "metadata": {},
   "source": [
    "### Errors\n",
    "\n",
    "As mentioned before, Python is untyped.\n",
    "That can be a problem at times because the interpreter won't stop you from computing the cosine of a string.\n",
    "To protect your code from \"abuse\", you can raise errors (similar to exceptions in other languages) and also catch them.\n",
    "To create an error, simply use the raise keyword.\n",
    "The typical triplet of \"try/catch/finally\" is called `try/except/finally` in Python."
   ]
  },
  {
   "cell_type": "code",
   "execution_count": null,
   "id": "96308bc8",
   "metadata": {},
   "outputs": [],
   "source": [
    "def some_int_function(arg):\n",
    "    if type(arg) != int:\n",
    "        raise ValueError(\"That's not an int!\")\n",
    "    return arg*10\n",
    "\n",
    "try:\n",
    "    print(some_int_function(3))\n",
    "    print(some_int_function(\"Hi\"))\n",
    "    print(some_int_function(5))\n",
    "except ValueError as e:\n",
    "    print(\"Whoopsie:\",e)\n",
    "finally:\n",
    "    print(\"We're done here\")"
   ]
  },
  {
   "cell_type": "markdown",
   "id": "466954a0",
   "metadata": {},
   "source": [
    "### Lambdas\n",
    "\n",
    "Functional programming has been introduced to most modern languages by now.\n",
    "Writing lambdas in Python involves the keyword `lambda` followed by arguments, a colon, and an expression that generates a return value.\n",
    "Lambdas must be written in one line!"
   ]
  },
  {
   "cell_type": "code",
   "execution_count": null,
   "id": "b7e32d2a",
   "metadata": {},
   "outputs": [],
   "source": [
    "tripler = lambda x: x*3\n",
    "print(tripler(5))"
   ]
  },
  {
   "cell_type": "markdown",
   "id": "0ba509dc",
   "metadata": {},
   "source": [
    "### Classes\n",
    "\n",
    "Classes in Python are somewhat similar to the early concepts of object oriented programming in C/C++.\n",
    "You define a class with the keyword `class` followed by a name, possibly inheritance as a comma separated list in round brackets, and a colon.\n",
    "Afterwards you have an indented block to enter object attributes, a constructor, class methods, and so on.\n",
    "The constructor is always callsed `__init__` and the first argument of every method is the object itself (typically named `self` to avoid confusion).\n",
    "\n",
    "Here is a simple example:"
   ]
  },
  {
   "cell_type": "code",
   "execution_count": null,
   "id": "e5852ab3",
   "metadata": {},
   "outputs": [],
   "source": [
    "class Multiplier:\n",
    "    def __init__(self, someInt):\n",
    "        if type(someInt) != int: raise ValueError(\"That's not an int!\")\n",
    "        self.myAttribute = someInt\n",
    "    def times(self, someInt):\n",
    "        if type(someInt) != int: raise ValueError(\"That's not an int!\")\n",
    "        return self.myAttribute*someInt\n",
    "\n",
    "class Duplicator(Multiplier):\n",
    "    def __init__(self):\n",
    "        super().__init__(2)\n",
    "\n",
    "x = Multiplier(5)\n",
    "y = Duplicator()\n",
    "\n",
    "print(\"Multiplier:\",x.times(5))\n",
    "print(\"Duplicator:\",y.times(5))"
   ]
  },
  {
   "cell_type": "markdown",
   "id": "43fe51ff",
   "metadata": {},
   "source": [
    "### String formatting\n",
    "\n",
    "Python provides multiple ways to format strings, i.e. embed variable values into strings.\n",
    "It provides a C-`printf`-style formatting using the [`%` operator](https://docs.python.org/3/library/stdtypes.html#printf-style-string-formatting) (legacy), a string function called [`str.format()`](https://docs.python.org/3/library/string.html#formatstrings) (new) and an inline format if the string is annotated with an `f` (same syntax as `str.format`; newest).\n"
   ]
  },
  {
   "cell_type": "code",
   "execution_count": null,
   "id": "c08c49c3",
   "metadata": {},
   "outputs": [],
   "source": [
    "a, b, c = \"student\", 5, 2**.5\n",
    "# Legacy printf-style\n",
    "print(\"Hello %s. Integer with leading zeroes: '%03d' Float with 4 digits precision: '%.4f'\" % (a,b,c))\n",
    "# New format call\n",
    "print(\"Hello {:}. Integer with leading zeroes: '{:03}' Float with 4 digits precision: '{:.5}'\".format(a,b,c))\n",
    "# Format string\n",
    "print(f\"Hello {a}. Integer with leading zeroes: '{b:03}' Float with 4 digits precision: '{c:.5}'\")"
   ]
  }
 ],
 "metadata": {
  "kernelspec": {
   "display_name": "Python 3 (ipykernel)",
   "language": "python",
   "name": "python3"
  }
 },
 "nbformat": 4,
 "nbformat_minor": 5
}
