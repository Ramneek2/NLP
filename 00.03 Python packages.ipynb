{
 "cells": [
  {
   "cell_type": "code",
   "execution_count": null,
   "id": "3f39bfcd",
   "metadata": {},
   "outputs": [],
   "source": [
    "%pip install numpy scipy scikit-learn plotly pandas matplotlib\n",
    "%pip install --no-cache-dir --force-reinstall https://dm.cs.tu-dortmund.de/nats/nats25_00_03_python_packages-0.1-py3-none-any.whl\n",
    "import nats25_00_03_python_packages"
   ]
  },
  {
   "cell_type": "markdown",
   "id": "8a42e130",
   "metadata": {},
   "source": [
    "# Introduction\n",
    "## Python (Packages)\n",
    "\n",
    "In this notebook, we will have a look at the most important packages, that you will need from the get go.\n",
    "These are [`numpy`](http://www.numpy.org/), [`pandas`](https://pandas.pydata.org/), [`scipy`](https://www.scipy.org/), [`sklearn`](http://scikit-learn.org), [`plotly`](https://plotly.com/python/) or [`matplotlib`](https://matplotlib.org/)."
   ]
  },
  {
   "cell_type": "markdown",
   "id": "a5e82a98",
   "metadata": {},
   "source": [
    "### Import\n",
    "\n",
    "To use a package in Python code, you can use the `import` keyword followed by the package name.\n",
    "If you want to import only a part or a specific method from a package, you can use the `from` keyword as shown below.\n",
    "In case you want to rename something you have imported, append the `as` keyword, followed by an alias."
   ]
  },
  {
   "cell_type": "code",
   "execution_count": null,
   "id": "591d340d",
   "metadata": {},
   "outputs": [],
   "source": [
    "import pandas\n",
    "import numpy as np\n",
    "from plotly import graph_objects as go"
   ]
  },
  {
   "cell_type": "markdown",
   "id": "e3e17f22",
   "metadata": {},
   "source": [
    "### numpy\n",
    "\n",
    "The probably most important package for computing in Python is numpy.\n",
    "It enriches the normal Python capabilities by faster vectors and matrices (numpy.array) and gives you access to most mathematical functions, that you will ever want to use on vectors and matrices.\n",
    "In addition to that, numpy functions are written and compiled in C and only linked into Python, which makes them quite a bit faster.\n",
    "\n",
    "To create a vector or matrix, you can simply call the numpy.array constructor with a list or tuple as argument.\n",
    "Lists of lists (Python native matrices) will automatically be parsed into a matrix."
   ]
  },
  {
   "cell_type": "code",
   "execution_count": null,
   "id": "fb5d5430",
   "metadata": {},
   "outputs": [],
   "source": [
    "import numpy as np\n",
    "myMat = [[3*i+j for j in range(3)] for i in range(3)]\n",
    "print(\"Python matrix:\\n\",myMat)\n",
    "npMat = np.array(myMat)\n",
    "print(\"Numpy matrix:\\n\",npMat)"
   ]
  },
  {
   "cell_type": "markdown",
   "id": "895612c9",
   "metadata": {},
   "source": [
    "To create numpy arrays without creating Python lists in advance, you can call one of the many constructors from the numpy package:"
   ]
  },
  {
   "cell_type": "code",
   "execution_count": null,
   "id": "b806609e",
   "metadata": {},
   "outputs": [],
   "source": [
    "print(\"Zeros matrix:\\n\",np.zeros((3,2)))\n",
    "print(\"Ones tensor:\\n\",np.ones((2,2,2)))\n",
    "print(\"Diagonal matrix:\\n\",np.diag([1,2,3]))"
   ]
  },
  {
   "cell_type": "markdown",
   "id": "6d97f27b",
   "metadata": {},
   "source": [
    "Indexing of numpy arrays is similar to lists, but instead of multiple brackets, you can write the indices in one bracket separated by commas.\n",
    "This notation supports slicing."
   ]
  },
  {
   "cell_type": "code",
   "execution_count": null,
   "id": "cdc577ce",
   "metadata": {},
   "outputs": [],
   "source": [
    "# numpy.arange behaves very similar to range but returns an numpy.array\n",
    "# reshape transforms an array into a different shape; in this case from 25x1 to 5x5\n",
    "mySecondMat = np.arange(25).reshape((5,5))\n",
    "print(\"Full matrix:\\n\",mySecondMat)\n",
    "print(\"Central element:\\n\",mySecondMat[2,2])\n",
    "print(\"Submatrix:\\n\",mySecondMat[1:4,1:4])"
   ]
  },
  {
   "cell_type": "markdown",
   "id": "807518e8",
   "metadata": {},
   "source": [
    "You can also index numpy arrays with masks (numpy arrays with the same shape and datatype boolean where `True` means \"take the value\" and `False` \"discard the value\") and index lists (lists of specific indices to return):"
   ]
  },
  {
   "cell_type": "code",
   "execution_count": null,
   "id": "20594299",
   "metadata": {},
   "outputs": [],
   "source": [
    "myArray = np.arange(50)**2\n",
    "myMask = myArray % 7 == 1 # All natural squares with rest 1 divided by 7\n",
    "mySelection = [4,7,9,2,5]\n",
    "print(\"Entire data:\", myArray)\n",
    "print(\"Selecting with mask:\", myArray[myMask])\n",
    "print(\"Selecting with index list:\", myArray[mySelection])"
   ]
  },
  {
   "cell_type": "markdown",
   "id": "8cf3fb9c",
   "metadata": {},
   "source": [
    "If you want to combine masks, you can do so with the functions `numpy.logical_and`, `numpy.logical_or`, and `numpy.logical_not`:"
   ]
  },
  {
   "cell_type": "code",
   "execution_count": null,
   "id": "5e348a5b",
   "metadata": {},
   "outputs": [],
   "source": [
    "myArray = np.arange(30)**2\n",
    "myMaskA = myArray % 7 == 1\n",
    "myMaskB = myArray % 5 == 1\n",
    "myMaskCombined = np.logical_and(myMaskA, myMaskB)\n",
    "print(\"Selecting with mask A:\", myArray[myMaskA])\n",
    "print(\"Selecting with mask B:\", myArray[myMaskB])\n",
    "print(\"Selecting with combined masks:\", myArray[myMaskCombined])"
   ]
  },
  {
   "cell_type": "markdown",
   "id": "02b37812",
   "metadata": {},
   "source": [
    "You can also create random numbers with numpy using the np.random subpackage.\n",
    "Numpy has numerours algebraic functions included like the dot product, that we will use a lot or an accessor for the transpose of a matrix.\n",
    "Here are a few examples, but take a look at the docs yourself."
   ]
  },
  {
   "cell_type": "code",
   "execution_count": null,
   "id": "1dbd669f",
   "metadata": {},
   "outputs": [],
   "source": [
    "matA = np.random.sample((3,3))\n",
    "print(\"Random matrix:\\n\",matA)\n",
    "print(\"Transposed matrix:\\n\",matA.T)\n",
    "matB = np.diag(np.random.randint(0,10,3))\n",
    "print(\"Random integer diagonal matrix:\\n\",matB)\n",
    "print(\"Matrix multiplication:\\n\",matA.dot(matB))"
   ]
  },
  {
   "cell_type": "markdown",
   "id": "3baba564",
   "metadata": {},
   "source": [
    "Additionally, numpy includes numerous mathematical functions, that can generally be directly applied to arrays for componentwise operations."
   ]
  },
  {
   "cell_type": "code",
   "execution_count": null,
   "id": "8b4e0b84",
   "metadata": {},
   "outputs": [],
   "source": [
    "arr = np.random.sample(5)\n",
    "print(\"Random values:\",arr)\n",
    "print(\"Arcus cosines (radians):\",np.arccos(arr))\n",
    "print(\"Arcus cosines (degrees):\",np.arccos(arr) / np.pi * 180)"
   ]
  },
  {
   "cell_type": "markdown",
   "id": "299b45c2",
   "metadata": {},
   "source": [
    "### pandas\n",
    "\n",
    "Pandas is a common package to handle datasets.\n",
    "The most common usecase is to use a table called pandas.DataFrame with named columns and rows.\n",
    "In this course, you will have to deal with CSV files every now and then and pandas is a convenient way to read those."
   ]
  },
  {
   "cell_type": "code",
   "execution_count": null,
   "id": "1ac604d7",
   "metadata": {},
   "outputs": [],
   "source": [
    "import pandas as pd\n",
    "import urllib\n",
    "file_path, _ = urllib.request.urlretrieve(\"https://dm.cs.tu-dortmund.de/nats/data/pokemon.csv\")\n",
    "df = pd.read_csv(file_path)\n",
    "# If the last line of a cell has a return value, it will be printed.\n",
    "df"
   ]
  },
  {
   "cell_type": "markdown",
   "id": "a033f1f9",
   "metadata": {},
   "source": [
    "Pandas provides numerous functions to get some information on the dataset at hand, such as the `describe` function."
   ]
  },
  {
   "cell_type": "code",
   "execution_count": null,
   "id": "0db9d944",
   "metadata": {},
   "outputs": [],
   "source": [
    "df.describe()"
   ]
  },
  {
   "cell_type": "markdown",
   "id": "c6208aff",
   "metadata": {},
   "source": [
    "In contrast to numpy arrays, DataFrames have multiple ways to address data.\n",
    "The normal indexing with square brackets accepts either a single column name or a list of column names and returns the respective subtable.\n",
    "To address specific rows, you can chose between the `loc` and `iloc` accessors, that accept an index value (like dictionary key) or an integer index.\n",
    "In many cases, these will behave the same but DataFrames can have an arbitrary index like e.g. email addresses in a user table.\n",
    "Slicing on indices can be done directly on the DataFrame (because pandas is a little strange sometimes)."
   ]
  },
  {
   "cell_type": "code",
   "execution_count": null,
   "id": "b68b7fc6",
   "metadata": {},
   "outputs": [],
   "source": [
    "print(\"Selecting a single column:\\n\",df[\"Name\"],\"\\n\")\n",
    "print(\"Selecting a multiple columns:\\n\",df[[\"Name\",\"Attack\",\"Defense\"]],\"\\n\")\n",
    "print(\"Selecting with index key:\\n\",df.loc[5],\"\\n\")\n",
    "print(\"Selecting with integer index:\\n\",df.iloc[5],\"\\n\")\n",
    "print(\"Selecting a slice directly on the DataFrame:\\n\",df[4:7],\"\\n\")"
   ]
  },
  {
   "cell_type": "markdown",
   "id": "b8555369",
   "metadata": {},
   "source": [
    "Most of the packages we will be working with understand DataFrames just as good as numpy arrays.\n",
    "Yet sometimes DataFrames feel a bit clunky if you want to compute something.\n",
    "In that case you can simply cast the DataFrame to a numpy array with the `to_numpy` function.\n",
    "However, this operation will create a numpy array with the first common super type of data types in the columns."
   ]
  },
  {
   "cell_type": "code",
   "execution_count": null,
   "id": "dddba023",
   "metadata": {},
   "outputs": [],
   "source": [
    "df[\"HP\"] = df[\"HP\"].astype(float) # Make one of the columns float\n",
    "print(\"to_numpy on floats and ints gives an array of floats:\\n\",df[[\"HP\",\"Attack\",\"Defense\"]].to_numpy().dtype)\n",
    "print(\"to_numpy on ints gives an array of ints:\\n\",df[[\"Attack\",\"Defense\"]].to_numpy().dtype)"
   ]
  },
  {
   "cell_type": "markdown",
   "id": "60595709",
   "metadata": {},
   "source": [
    "### scipy and sklearn\n",
    "\n",
    "Scipy is a framework for scientific computation based on numpy.\n",
    "It consists of a core library and multiple attached scipy toolkits (short scikits) that can be installed and imported as separate packages.\n",
    "Whenever you need some scientific computation that is not provided by numpy, you will most likely find it in scipy.\n",
    "We won't go into details on scipy here yet and rather address it, when it comes up during an assignment.\n",
    "\n",
    "Sklearn (short for scikit-learn) implements numerous algorithms from statistics and machine learning.\n",
    "In Python it is a decent go to package for reference implementations in that field even though they are not all state of the art (anymore).\n",
    "For this course, however, they present a very decent baseline for your learning experience.\n",
    "As with scipy we won't discuss any details on sklearn yet."
   ]
  },
  {
   "cell_type": "markdown",
   "id": "29936f09",
   "metadata": {},
   "source": [
    "### plotly and matplotlib\n",
    "\n",
    "In the Python community matplotlib is the default visualization package.\n",
    "It can be used to display images, 3d renderings, curve plots, histograms, and anything else, that you might wish to render.\n",
    "Matplotlib's workflow is centered on a state machine and at times feels somewhat dated and uncomfortable.\n",
    "Many packages have been introduced to simplify rendering in Python and reduce the amount of code required for simple plots.\n",
    "\n",
    "My favorite contender (with a very decent documentation) is plotly.\n",
    "Plotly uses an object oriented plotting pipeline rather than a state machine and (to my mind at least) has an overall easier understandable concept.\n",
    "The core of plotly is written in JavaScript, which also makes it a lot easier to make the plots interactive, as event handlers can be cross compiled.\n",
    "\n",
    "As we will need to create quite a lot of plots, you should get comfortable with at least one of the two packages.\n",
    "Matplotlib is as far as I know still the more common solution but if you ask me, you would miss out on something when not using plotly.\n",
    "\n",
    "Here are some example codes (try clicking the legend entries in the plotly plot):"
   ]
  },
  {
   "cell_type": "code",
   "execution_count": null,
   "id": "6a344e19",
   "metadata": {},
   "outputs": [],
   "source": [
    "import numpy as np\n",
    "xs = np.arange(0,2*np.pi,.05)\n",
    "coss = np.cos(xs)\n",
    "sins = np.sin(xs)\n",
    "\n",
    "from plotly import graph_objects as go\n",
    "go.Figure([\n",
    "    go.Scatter(x=xs,y=coss,name=\"cosine\"),\n",
    "    go.Scatter(x=xs,y=sins,name=\"sine\")\n",
    "], layout=dict(title=\"Plotly\")).show()\n",
    "\n",
    "from matplotlib import pyplot as plt\n",
    "fig, ax = plt.subplots()\n",
    "ax.plot(xs, coss, label='cosine')\n",
    "ax.plot(xs, sins, label='sine')\n",
    "legend = ax.legend()\n",
    "ax.set_title(\"Matplotlib\")\n",
    "fig.show()"
   ]
  },
  {
   "cell_type": "markdown",
   "id": "8ef82289",
   "metadata": {},
   "source": [
    "That's it for packages. In the last notebook we will take a look at some advanced Python features."
   ]
  }
 ],
 "metadata": {
  "kernelspec": {
   "display_name": "Python 3 (ipykernel)",
   "language": "python",
   "name": "python3"
  }
 },
 "nbformat": 4,
 "nbformat_minor": 5
}
